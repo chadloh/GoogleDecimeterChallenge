{
 "cells": [
  {
   "cell_type": "markdown",
   "id": "1e6f29b3",
   "metadata": {
    "papermill": {
     "duration": 0.006431,
     "end_time": "2022-07-22T22:17:54.630999",
     "exception": false,
     "start_time": "2022-07-22T22:17:54.624568",
     "status": "completed"
    },
    "tags": []
   },
   "source": [
    "### Thanks @mehrankazeminia for your great [work](https://www.kaggle.com/code/mehrankazeminia/gsdc22-coordinate-with-nearestneighbors)"
   ]
  },
  {
   "cell_type": "markdown",
   "id": "347d1325",
   "metadata": {
    "papermill": {
     "duration": 0.004962,
     "end_time": "2022-07-22T22:17:54.644861",
     "exception": false,
     "start_time": "2022-07-22T22:17:54.639899",
     "status": "completed"
    },
    "tags": []
   },
   "source": [
    "<div class=\"alert alert-success\">  \n",
    "    <h1 align=\"center\" style=\"color:darkcyan;\">Google Smartphone Decimeter Challenge 2022</h1>  \n",
    "</div>\n",
    "\n",
    "<div>\n",
    "    <h1 align=\"center\" style=\"color:darkcyan;\"><< One by One >></h1>\n",
    "    <h1 align=\"center\" style=\"color:darkcyan;\">Coordinate with NearestNeighbors</h1>    \n",
    "</div>\n",
    "\n",
    "<div class=\"alert alert-success\">  \n",
    "</div>"
   ]
  },
  {
   "cell_type": "markdown",
   "id": "f5518870",
   "metadata": {
    "papermill": {
     "duration": 0.005582,
     "end_time": "2022-07-22T22:17:54.655709",
     "exception": false,
     "start_time": "2022-07-22T22:17:54.650127",
     "status": "completed"
    },
    "tags": []
   },
   "source": [
    "#### - Usually when you \"Ensemble\" between the results of two or more notebooks, you specify coefficients that are multiplied in all rows. In this way, the results will probably get better in some rows, and at the same time, in some other rows, the results may get worse. However, if the results are generally better, we consider this \"ensemble\" successful.\n",
    "\n",
    "#### - In any case, we should not forget that finding the coefficients for \"Ensembling\" with our eyes closed will probably make the results of some rows worse, but sometimes we do not realize this, because our overall score has improved anyway. \n",
    "\n",
    "#### - By the way, if the results of the notebooks are two or more dimensions, it will be really harder to choose the coefficients for \"Ensembling\", and only by guessing or a lot of trial and error, maybe it can be successful.\n",
    "\n",
    "#### - In this notebook, we will share our innovative method for \"Coordinate [One by One]\" the results and you will see that for each row, we perform separate calculations and And we determine the order of proximity of all points in a row. Then we can use the point that has the highest score in this row as the main basis and, for example, combine the value of this point with the point closest to itself (Blend or Snap).\n",
    "\n",
    "#### - We use \"NearestNeighbors\" for each row, which makes the calculations a bit slow. Of course you can use other methods."
   ]
  },
  {
   "cell_type": "markdown",
   "id": "1b70d4c7",
   "metadata": {
    "papermill": {
     "duration": 0.004965,
     "end_time": "2022-07-22T22:17:54.666137",
     "exception": false,
     "start_time": "2022-07-22T22:17:54.661172",
     "status": "completed"
    },
    "tags": []
   },
   "source": [
    "<img src=\"https://raw.githubusercontent.com/MehranKazeminia/fifa-worldcup-2018/master/dart101.png\">"
   ]
  },
  {
   "cell_type": "markdown",
   "id": "abb9e8fb",
   "metadata": {
    "papermill": {
     "duration": 0.004961,
     "end_time": "2022-07-22T22:17:54.676479",
     "exception": false,
     "start_time": "2022-07-22T22:17:54.671518",
     "status": "completed"
    },
    "tags": []
   },
   "source": [
    "## **<span style=\"color:darkred;\">Adolphe Quetelet (1796-1874):</span>**\n",
    "\n",
    "#### Suppose in a match, shooters throw their arrows at a target. Then, for some reason, the point that marks the center of the target disappears. If the number of arrows is large enough, the actual position of the target can be regained."
   ]
  },
  {
   "cell_type": "markdown",
   "id": "2413e2ed",
   "metadata": {
    "papermill": {
     "duration": 0.004961,
     "end_time": "2022-07-22T22:17:54.686588",
     "exception": false,
     "start_time": "2022-07-22T22:17:54.681627",
     "status": "completed"
    },
    "tags": []
   },
   "source": [
    "<div class=\"alert alert-success\">  \n",
    "</div>"
   ]
  },
  {
   "cell_type": "code",
   "execution_count": 1,
   "id": "0f58686b",
   "metadata": {
    "execution": {
     "iopub.execute_input": "2022-07-22T22:17:54.699163Z",
     "iopub.status.busy": "2022-07-22T22:17:54.698661Z",
     "iopub.status.idle": "2022-07-22T22:17:55.872901Z",
     "shell.execute_reply": "2022-07-22T22:17:55.871516Z"
    },
    "papermill": {
     "duration": 1.184282,
     "end_time": "2022-07-22T22:17:55.876139",
     "exception": false,
     "start_time": "2022-07-22T22:17:54.691857",
     "status": "completed"
    },
    "tags": []
   },
   "outputs": [],
   "source": [
    "import numpy as np \n",
    "import pandas as pd\n",
    "import seaborn as sns\n",
    "\n",
    "import matplotlib.pyplot as plt\n",
    "%matplotlib inline\n",
    "#!ls ../input/*"
   ]
  },
  {
   "cell_type": "markdown",
   "id": "2b9ce7d3",
   "metadata": {
    "papermill": {
     "duration": 0.005065,
     "end_time": "2022-07-22T22:17:55.886813",
     "exception": false,
     "start_time": "2022-07-22T22:17:55.881748",
     "status": "completed"
    },
    "tags": []
   },
   "source": [
    "# <span style=\"color:darkcyan;\">Data-Sets</span>\n",
    "\n",
    "#### To illustrate this, I used the results of my notebook and the results of five public notebooks. Thanks to everyone who published their great notebooks, especially:\n",
    "\n",
    "##### @**saitodevel01**, @**robikscube**, @**dienhoa**, @**ravishah1**, @**taroz1461**, @**saurabhbagchi**"
   ]
  },
  {
   "cell_type": "code",
   "execution_count": 2,
   "id": "92e56d36",
   "metadata": {
    "execution": {
     "iopub.execute_input": "2022-07-22T22:17:55.899828Z",
     "iopub.status.busy": "2022-07-22T22:17:55.899318Z",
     "iopub.status.idle": "2022-07-22T22:17:56.055795Z",
     "shell.execute_reply": "2022-07-22T22:17:56.054443Z"
    },
    "papermill": {
     "duration": 0.166391,
     "end_time": "2022-07-22T22:17:56.058632",
     "exception": false,
     "start_time": "2022-07-22T22:17:55.892241",
     "status": "completed"
    },
    "tags": []
   },
   "outputs": [
    {
     "data": {
      "text/html": [
       "<div>\n",
       "<style scoped>\n",
       "    .dataframe tbody tr th:only-of-type {\n",
       "        vertical-align: middle;\n",
       "    }\n",
       "\n",
       "    .dataframe tbody tr th {\n",
       "        vertical-align: top;\n",
       "    }\n",
       "\n",
       "    .dataframe thead th {\n",
       "        text-align: right;\n",
       "    }\n",
       "</style>\n",
       "<table border=\"1\" class=\"dataframe\">\n",
       "  <thead>\n",
       "    <tr style=\"text-align: right;\">\n",
       "      <th></th>\n",
       "      <th>tripId</th>\n",
       "      <th>UnixTimeMillis</th>\n",
       "      <th>LatitudeDegrees</th>\n",
       "      <th>LongitudeDegrees</th>\n",
       "    </tr>\n",
       "  </thead>\n",
       "  <tbody>\n",
       "    <tr>\n",
       "      <th>0</th>\n",
       "      <td>2021-04-28-US-MTV-2/SamsungGalaxyS20Ultra</td>\n",
       "      <td>1619650832999</td>\n",
       "      <td>37.904611</td>\n",
       "      <td>-86.481078</td>\n",
       "    </tr>\n",
       "    <tr>\n",
       "      <th>1</th>\n",
       "      <td>2021-04-28-US-MTV-2/SamsungGalaxyS20Ultra</td>\n",
       "      <td>1619650833999</td>\n",
       "      <td>37.904611</td>\n",
       "      <td>-86.481078</td>\n",
       "    </tr>\n",
       "    <tr>\n",
       "      <th>2</th>\n",
       "      <td>2021-04-28-US-MTV-2/SamsungGalaxyS20Ultra</td>\n",
       "      <td>1619650834999</td>\n",
       "      <td>37.904611</td>\n",
       "      <td>-86.481078</td>\n",
       "    </tr>\n",
       "    <tr>\n",
       "      <th>3</th>\n",
       "      <td>2021-04-28-US-MTV-2/SamsungGalaxyS20Ultra</td>\n",
       "      <td>1619650835999</td>\n",
       "      <td>37.904611</td>\n",
       "      <td>-86.481078</td>\n",
       "    </tr>\n",
       "    <tr>\n",
       "      <th>4</th>\n",
       "      <td>2021-04-28-US-MTV-2/SamsungGalaxyS20Ultra</td>\n",
       "      <td>1619650836999</td>\n",
       "      <td>37.904611</td>\n",
       "      <td>-86.481078</td>\n",
       "    </tr>\n",
       "    <tr>\n",
       "      <th>...</th>\n",
       "      <td>...</td>\n",
       "      <td>...</td>\n",
       "      <td>...</td>\n",
       "      <td>...</td>\n",
       "    </tr>\n",
       "    <tr>\n",
       "      <th>66092</th>\n",
       "      <td>2022-04-25-US-OAK-2/GooglePixel4</td>\n",
       "      <td>1650927742650</td>\n",
       "      <td>37.904611</td>\n",
       "      <td>-86.481078</td>\n",
       "    </tr>\n",
       "    <tr>\n",
       "      <th>66093</th>\n",
       "      <td>2022-04-25-US-OAK-2/GooglePixel4</td>\n",
       "      <td>1650927743642</td>\n",
       "      <td>37.904611</td>\n",
       "      <td>-86.481078</td>\n",
       "    </tr>\n",
       "    <tr>\n",
       "      <th>66094</th>\n",
       "      <td>2022-04-25-US-OAK-2/GooglePixel4</td>\n",
       "      <td>1650927744651</td>\n",
       "      <td>37.904611</td>\n",
       "      <td>-86.481078</td>\n",
       "    </tr>\n",
       "    <tr>\n",
       "      <th>66095</th>\n",
       "      <td>2022-04-25-US-OAK-2/GooglePixel4</td>\n",
       "      <td>1650927745640</td>\n",
       "      <td>37.904611</td>\n",
       "      <td>-86.481078</td>\n",
       "    </tr>\n",
       "    <tr>\n",
       "      <th>66096</th>\n",
       "      <td>2022-04-25-US-OAK-2/GooglePixel4</td>\n",
       "      <td>1650927746632</td>\n",
       "      <td>37.904611</td>\n",
       "      <td>-86.481078</td>\n",
       "    </tr>\n",
       "  </tbody>\n",
       "</table>\n",
       "<p>66097 rows × 4 columns</p>\n",
       "</div>"
      ],
      "text/plain": [
       "                                          tripId  UnixTimeMillis  \\\n",
       "0      2021-04-28-US-MTV-2/SamsungGalaxyS20Ultra   1619650832999   \n",
       "1      2021-04-28-US-MTV-2/SamsungGalaxyS20Ultra   1619650833999   \n",
       "2      2021-04-28-US-MTV-2/SamsungGalaxyS20Ultra   1619650834999   \n",
       "3      2021-04-28-US-MTV-2/SamsungGalaxyS20Ultra   1619650835999   \n",
       "4      2021-04-28-US-MTV-2/SamsungGalaxyS20Ultra   1619650836999   \n",
       "...                                          ...             ...   \n",
       "66092           2022-04-25-US-OAK-2/GooglePixel4   1650927742650   \n",
       "66093           2022-04-25-US-OAK-2/GooglePixel4   1650927743642   \n",
       "66094           2022-04-25-US-OAK-2/GooglePixel4   1650927744651   \n",
       "66095           2022-04-25-US-OAK-2/GooglePixel4   1650927745640   \n",
       "66096           2022-04-25-US-OAK-2/GooglePixel4   1650927746632   \n",
       "\n",
       "       LatitudeDegrees  LongitudeDegrees  \n",
       "0            37.904611        -86.481078  \n",
       "1            37.904611        -86.481078  \n",
       "2            37.904611        -86.481078  \n",
       "3            37.904611        -86.481078  \n",
       "4            37.904611        -86.481078  \n",
       "...                ...               ...  \n",
       "66092        37.904611        -86.481078  \n",
       "66093        37.904611        -86.481078  \n",
       "66094        37.904611        -86.481078  \n",
       "66095        37.904611        -86.481078  \n",
       "66096        37.904611        -86.481078  \n",
       "\n",
       "[66097 rows x 4 columns]"
      ]
     },
     "metadata": {},
     "output_type": "display_data"
    }
   ],
   "source": [
    "SAMPLE = pd.read_csv('sample_submission.csv')\n",
    "display(SAMPLE)"
   ]
  },
  {
   "cell_type": "code",
   "execution_count": 4,
   "id": "9d42effd",
   "metadata": {
    "execution": {
     "iopub.execute_input": "2022-07-22T22:17:56.072012Z",
     "iopub.status.busy": "2022-07-22T22:17:56.071468Z",
     "iopub.status.idle": "2022-07-22T22:17:56.078047Z",
     "shell.execute_reply": "2022-07-22T22:17:56.076464Z"
    },
    "papermill": {
     "duration": 0.016277,
     "end_time": "2022-07-22T22:17:56.080489",
     "exception": false,
     "start_time": "2022-07-22T22:17:56.064212",
     "status": "completed"
    },
    "tags": []
   },
   "outputs": [],
   "source": [
    "path1 = '2856.csv' \n",
    "path2 = '3013.csv' \n",
    "path3 = '3355.csv'\n",
    "\n",
    "path  = [path1, path2, path3, path4, path5]"
   ]
  },
  {
   "cell_type": "markdown",
   "id": "05cf8f55",
   "metadata": {
    "papermill": {
     "duration": 0.005481,
     "end_time": "2022-07-22T22:17:56.092042",
     "exception": false,
     "start_time": "2022-07-22T22:17:56.086561",
     "status": "completed"
    },
    "tags": []
   },
   "source": [
    "<div class=\"alert alert-success\">  \n",
    "</div>\n",
    "\n",
    "# <span style=\"color:darkcyan;\">Coordinate - One by One</span>"
   ]
  },
  {
   "cell_type": "code",
   "execution_count": 5,
   "id": "40360af6",
   "metadata": {
    "execution": {
     "iopub.execute_input": "2022-07-22T22:17:56.105941Z",
     "iopub.status.busy": "2022-07-22T22:17:56.105528Z",
     "iopub.status.idle": "2022-07-22T22:17:57.517314Z",
     "shell.execute_reply": "2022-07-22T22:17:57.516087Z"
    },
    "papermill": {
     "duration": 1.422215,
     "end_time": "2022-07-22T22:17:57.520247",
     "exception": false,
     "start_time": "2022-07-22T22:17:56.098032",
     "status": "completed"
    },
    "tags": []
   },
   "outputs": [],
   "source": [
    "QT = [[], [], [], [], []]\n",
    "QN = [[], [], [], [], []]\n",
    "\n",
    "for k in range(len(path)):    \n",
    "    sub_k = pd.read_csv(path[k]).values  \n",
    "    PT = []\n",
    "    PN = []    \n",
    "    for j in range(len(SAMPLE)):\n",
    "        PT.append([sub_k[j][2]])     \n",
    "        PN.append([sub_k[j][3]])   \n",
    "    QT[k] = PT  \n",
    "    QN[k] = PN  "
   ]
  },
  {
   "cell_type": "code",
   "execution_count": null,
   "metadata": {},
   "outputs": [],
   "source": []
  },
  {
   "cell_type": "code",
   "execution_count": 11,
   "id": "699e433c",
   "metadata": {
    "_kg_hide-input": true,
    "_kg_hide-output": true,
    "execution": {
     "iopub.execute_input": "2022-07-22T22:17:57.534507Z",
     "iopub.status.busy": "2022-07-22T22:17:57.534103Z",
     "iopub.status.idle": "2022-07-22T22:17:57.546159Z",
     "shell.execute_reply": "2022-07-22T22:17:57.545168Z"
    },
    "jupyter": {
     "source_hidden": true
    },
    "papermill": {
     "duration": 0.022816,
     "end_time": "2022-07-22T22:17:57.549157",
     "exception": false,
     "start_time": "2022-07-22T22:17:57.526341",
     "status": "completed"
    },
    "tags": []
   },
   "outputs": [],
   "source": [
    "def near_plt(points, best_score, support, best_1, generated):\n",
    "    \n",
    "    plt.style.use('seaborn-whitegrid') \n",
    "    plt.figure(figsize=(10, 10), facecolor='lightblue')\n",
    "    plt.title(f'\\nC O O R D I N A T E\\n\\n{SAMPLE.iloc[i][:2]}')   \n",
    "    \n",
    "    plt.scatter(points[0], points[1], s=200, facecolor='lightblue', edgecolor='black', label='All Points')\n",
    "    plt.scatter(best_score[0], best_score[1], s=200, facecolor='violet', edgecolor='black', label='Best Score')\n",
    "    plt.scatter(support[0], support[1], s=200, facecolor='yellow', edgecolor='black', label='Support')    \n",
    "    plt.scatter(generated[0], generated[1], s=150, marker='x', label='Generated')\n",
    "    plt.scatter(best_1[0], best_1[1], s=150, marker='x', label='Best-1 (To Check)')\n",
    "   \n",
    "    plt.legend(fontsize=12)\n",
    "    plt.xlabel('LatitudeDegrees', fontsize=12)\n",
    "    plt.ylabel('LongitudeDegrees', fontsize=12)\n",
    "    plt.savefig(f'Coordinate_{i}.png')\n",
    "    plt.show()"
   ]
  },
  {
   "cell_type": "code",
   "execution_count": null,
   "id": "fe40b46d",
   "metadata": {},
   "outputs": [],
   "source": [
    "near_plt()"
   ]
  },
  {
   "cell_type": "markdown",
   "id": "51279600",
   "metadata": {
    "papermill": {
     "duration": 0.005617,
     "end_time": "2022-07-22T22:17:57.560631",
     "exception": false,
     "start_time": "2022-07-22T22:17:57.555014",
     "status": "completed"
    },
    "tags": []
   },
   "source": [
    "## **<span style=\"color:darkred;\">Note:</span>**\n",
    "\n",
    "#### - You can compare the results of your notebook with many other notebooks. You can even use one or two or ... the nearest points. Then \"Coordinate\" each row of your results. Also, easily try different coefficients.\n",
    "\n",
    "#### - If the red cross (Best-1) is on the yellow circle, it means that the point closest to Best_Score is the point that scores exactly after Best_Score. But if the red cross (Best-1) is on the blue circle, that is, in this row, a point with a lower score is closer to the Best_Score point. Of course, we did not know about it before, but now we can use the same point to combine the results of this.\n",
    "\n",
    "#### - In order to be more accurate, in version 9, I made some changes in the calculations. I have done calculations for LatitudeDegrees and LongitudeDegrees columns separately. In addition, (as I explained earlier) individual rows are also calculated separately. For this reason, the execution time has been almost doubled."
   ]
  },
  {
   "cell_type": "code",
   "execution_count": 8,
   "id": "e6d2758f",
   "metadata": {
    "execution": {
     "iopub.execute_input": "2022-07-22T22:17:57.574616Z",
     "iopub.status.busy": "2022-07-22T22:17:57.573611Z",
     "iopub.status.idle": "2022-07-22T22:19:26.882816Z",
     "shell.execute_reply": "2022-07-22T22:19:26.881707Z"
    },
    "papermill": {
     "duration": 89.31941,
     "end_time": "2022-07-22T22:19:26.885953",
     "exception": false,
     "start_time": "2022-07-22T22:17:57.566543",
     "status": "completed"
    },
    "tags": []
   },
   "outputs": [],
   "source": [
    "from sklearn.neighbors import NearestNeighbors\n",
    "random_examples = np.random.randint(len(SAMPLE), size=10) # Number of examples: 10\n",
    "\n",
    "T = [] # LatitudeDegrees\n",
    "N = [] # LongitudeDegrees\n",
    "\n",
    "for i in range(len(SAMPLE)): \n",
    "    XT = [QT[0][i], QT[1][i], QT[2][i], QT[3][i], QT[4][i]]\n",
    "    XN = [QN[0][i], QN[1][i], QN[2][i], QN[3][i], QN[4][i]]\n",
    "    \n",
    "    nbrs = NearestNeighbors(n_neighbors=len(XT), algorithm='ball_tree').fit(XT)    \n",
    "    _ , indices_T = nbrs.kneighbors(XT)\n",
    "    \n",
    "    nbrs = NearestNeighbors(n_neighbors=len(XN), algorithm='ball_tree').fit(XN)    \n",
    "    _ , indices_N = nbrs.kneighbors(XN)\n",
    " \n",
    "    tt = XT[indices_T[-1][0]][0]\n",
    "    T.append(tt) \n",
    "    \n",
    "    nn = XN[indices_N[-1][0]][0] \n",
    "    N.append(nn) \n",
    "    \n",
    "    \"\"\"\n",
    "    if i in random_examples:\n",
    "        print(f'\\n\\n\\nRow >>>>> {i}\\n{SAMPLE.iloc[i][:2]}')\n",
    "        near_plt([XT, XN], [XT[indices_T[-1][0]], XN[indices_N[-1][0]]],\n",
    "                 [XT[indices_T[-1][1]], XN[indices_N[-1][1]]], [XT[-2], XN[-2]], [tt, nn])\n",
    "    \"\"\""
   ]
  },
  {
   "cell_type": "code",
   "execution_count": 9,
   "id": "d8c2b0dc",
   "metadata": {
    "_kg_hide-input": false,
    "execution": {
     "iopub.execute_input": "2022-07-22T22:19:26.900573Z",
     "iopub.status.busy": "2022-07-22T22:19:26.899247Z",
     "iopub.status.idle": "2022-07-22T22:19:26.949022Z",
     "shell.execute_reply": "2022-07-22T22:19:26.947760Z"
    },
    "papermill": {
     "duration": 0.059919,
     "end_time": "2022-07-22T22:19:26.951904",
     "exception": false,
     "start_time": "2022-07-22T22:19:26.891985",
     "status": "completed"
    },
    "tags": []
   },
   "outputs": [
    {
     "data": {
      "text/html": [
       "<div>\n",
       "<style scoped>\n",
       "    .dataframe tbody tr th:only-of-type {\n",
       "        vertical-align: middle;\n",
       "    }\n",
       "\n",
       "    .dataframe tbody tr th {\n",
       "        vertical-align: top;\n",
       "    }\n",
       "\n",
       "    .dataframe thead th {\n",
       "        text-align: right;\n",
       "    }\n",
       "</style>\n",
       "<table border=\"1\" class=\"dataframe\">\n",
       "  <thead>\n",
       "    <tr style=\"text-align: right;\">\n",
       "      <th></th>\n",
       "      <th>tripId</th>\n",
       "      <th>UnixTimeMillis</th>\n",
       "      <th>LatitudeDegrees</th>\n",
       "      <th>LongitudeDegrees</th>\n",
       "    </tr>\n",
       "  </thead>\n",
       "  <tbody>\n",
       "    <tr>\n",
       "      <th>0</th>\n",
       "      <td>2021-04-28-US-MTV-2/SamsungGalaxyS20Ultra</td>\n",
       "      <td>1619650832999</td>\n",
       "      <td>37.395830</td>\n",
       "      <td>-122.102968</td>\n",
       "    </tr>\n",
       "    <tr>\n",
       "      <th>1</th>\n",
       "      <td>2021-04-28-US-MTV-2/SamsungGalaxyS20Ultra</td>\n",
       "      <td>1619650833999</td>\n",
       "      <td>37.395844</td>\n",
       "      <td>-122.102986</td>\n",
       "    </tr>\n",
       "    <tr>\n",
       "      <th>2</th>\n",
       "      <td>2021-04-28-US-MTV-2/SamsungGalaxyS20Ultra</td>\n",
       "      <td>1619650834999</td>\n",
       "      <td>37.395835</td>\n",
       "      <td>-122.102990</td>\n",
       "    </tr>\n",
       "    <tr>\n",
       "      <th>3</th>\n",
       "      <td>2021-04-28-US-MTV-2/SamsungGalaxyS20Ultra</td>\n",
       "      <td>1619650835999</td>\n",
       "      <td>37.395844</td>\n",
       "      <td>-122.102976</td>\n",
       "    </tr>\n",
       "    <tr>\n",
       "      <th>4</th>\n",
       "      <td>2021-04-28-US-MTV-2/SamsungGalaxyS20Ultra</td>\n",
       "      <td>1619650836999</td>\n",
       "      <td>37.395868</td>\n",
       "      <td>-122.102989</td>\n",
       "    </tr>\n",
       "    <tr>\n",
       "      <th>...</th>\n",
       "      <td>...</td>\n",
       "      <td>...</td>\n",
       "      <td>...</td>\n",
       "      <td>...</td>\n",
       "    </tr>\n",
       "    <tr>\n",
       "      <th>66092</th>\n",
       "      <td>2022-04-25-US-OAK-2/GooglePixel4</td>\n",
       "      <td>1650927742650</td>\n",
       "      <td>37.656997</td>\n",
       "      <td>-121.899012</td>\n",
       "    </tr>\n",
       "    <tr>\n",
       "      <th>66093</th>\n",
       "      <td>2022-04-25-US-OAK-2/GooglePixel4</td>\n",
       "      <td>1650927743642</td>\n",
       "      <td>37.657038</td>\n",
       "      <td>-121.899145</td>\n",
       "    </tr>\n",
       "    <tr>\n",
       "      <th>66094</th>\n",
       "      <td>2022-04-25-US-OAK-2/GooglePixel4</td>\n",
       "      <td>1650927744651</td>\n",
       "      <td>37.656974</td>\n",
       "      <td>-121.899016</td>\n",
       "    </tr>\n",
       "    <tr>\n",
       "      <th>66095</th>\n",
       "      <td>2022-04-25-US-OAK-2/GooglePixel4</td>\n",
       "      <td>1650927745640</td>\n",
       "      <td>37.657042</td>\n",
       "      <td>-121.898908</td>\n",
       "    </tr>\n",
       "    <tr>\n",
       "      <th>66096</th>\n",
       "      <td>2022-04-25-US-OAK-2/GooglePixel4</td>\n",
       "      <td>1650927746632</td>\n",
       "      <td>37.656889</td>\n",
       "      <td>-121.898671</td>\n",
       "    </tr>\n",
       "  </tbody>\n",
       "</table>\n",
       "<p>66097 rows × 4 columns</p>\n",
       "</div>"
      ],
      "text/plain": [
       "                                          tripId  UnixTimeMillis  \\\n",
       "0      2021-04-28-US-MTV-2/SamsungGalaxyS20Ultra   1619650832999   \n",
       "1      2021-04-28-US-MTV-2/SamsungGalaxyS20Ultra   1619650833999   \n",
       "2      2021-04-28-US-MTV-2/SamsungGalaxyS20Ultra   1619650834999   \n",
       "3      2021-04-28-US-MTV-2/SamsungGalaxyS20Ultra   1619650835999   \n",
       "4      2021-04-28-US-MTV-2/SamsungGalaxyS20Ultra   1619650836999   \n",
       "...                                          ...             ...   \n",
       "66092           2022-04-25-US-OAK-2/GooglePixel4   1650927742650   \n",
       "66093           2022-04-25-US-OAK-2/GooglePixel4   1650927743642   \n",
       "66094           2022-04-25-US-OAK-2/GooglePixel4   1650927744651   \n",
       "66095           2022-04-25-US-OAK-2/GooglePixel4   1650927745640   \n",
       "66096           2022-04-25-US-OAK-2/GooglePixel4   1650927746632   \n",
       "\n",
       "       LatitudeDegrees  LongitudeDegrees  \n",
       "0            37.395830       -122.102968  \n",
       "1            37.395844       -122.102986  \n",
       "2            37.395835       -122.102990  \n",
       "3            37.395844       -122.102976  \n",
       "4            37.395868       -122.102989  \n",
       "...                ...               ...  \n",
       "66092        37.656997       -121.899012  \n",
       "66093        37.657038       -121.899145  \n",
       "66094        37.656974       -121.899016  \n",
       "66095        37.657042       -121.898908  \n",
       "66096        37.656889       -121.898671  \n",
       "\n",
       "[66097 rows x 4 columns]"
      ]
     },
     "execution_count": 9,
     "metadata": {},
     "output_type": "execute_result"
    }
   ],
   "source": [
    "sub = SAMPLE.copy()\n",
    "sub['LatitudeDegrees']  = T\n",
    "sub['LongitudeDegrees'] = N\n",
    "sub"
   ]
  },
  {
   "cell_type": "code",
   "execution_count": 10,
   "id": "bdc31267",
   "metadata": {
    "execution": {
     "iopub.execute_input": "2022-07-22T22:19:26.966240Z",
     "iopub.status.busy": "2022-07-22T22:19:26.965205Z",
     "iopub.status.idle": "2022-07-22T22:19:28.230101Z",
     "shell.execute_reply": "2022-07-22T22:19:28.228859Z"
    },
    "papermill": {
     "duration": 1.274806,
     "end_time": "2022-07-22T22:19:28.232641",
     "exception": false,
     "start_time": "2022-07-22T22:19:26.957835",
     "status": "completed"
    },
    "tags": []
   },
   "outputs": [
    {
     "name": "stderr",
     "output_type": "stream",
     "text": [
      "'ls' is not recognized as an internal or external command,\n",
      "operable program or batch file.\n"
     ]
    }
   ],
   "source": [
    "sub.to_csv(\"submission.csv\", index=False)\n",
    "!ls"
   ]
  },
  {
   "cell_type": "markdown",
   "id": "ccde1ff1",
   "metadata": {
    "_kg_hide-output": true,
    "papermill": {
     "duration": 0.005384,
     "end_time": "2022-07-22T22:19:28.243819",
     "exception": false,
     "start_time": "2022-07-22T22:19:28.238435",
     "status": "completed"
    },
    "tags": []
   },
   "source": [
    "<div class=\"alert alert-success\">  \n",
    "</div>\n",
    "\n",
    "<div class=\"alert alert-success\">\n",
    "    <h1 align=\"center\" style=\"color:darkcyan;\">Good Luck.</h1> \n",
    "</div>"
   ]
  }
 ],
 "metadata": {
  "kernelspec": {
   "display_name": "Python 3.10.5 64-bit (windows store)",
   "language": "python",
   "name": "python3"
  },
  "language_info": {
   "codemirror_mode": {
    "name": "ipython",
    "version": 3
   },
   "file_extension": ".py",
   "mimetype": "text/x-python",
   "name": "python",
   "nbconvert_exporter": "python",
   "pygments_lexer": "ipython3",
   "version": "3.10.5"
  },
  "papermill": {
   "default_parameters": {},
   "duration": 106.017816,
   "end_time": "2022-07-22T22:19:29.476789",
   "environment_variables": {},
   "exception": null,
   "input_path": "__notebook__.ipynb",
   "output_path": "__notebook__.ipynb",
   "parameters": {},
   "start_time": "2022-07-22T22:17:43.458973",
   "version": "2.3.4"
  },
  "vscode": {
   "interpreter": {
    "hash": "ade1d43c85fdc616c4580dd47bdd09ff4583d2cfd020d7df976515a36bd5944b"
   }
  }
 },
 "nbformat": 4,
 "nbformat_minor": 5
}
