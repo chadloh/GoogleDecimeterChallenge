{
  "nbformat": 4,
  "nbformat_minor": 0,
  "metadata": {
    "colab": {
      "name": "Madgwick test.ipynb",
      "provenance": [],
      "collapsed_sections": [],
      "mount_file_id": "1sKJbd9-DoVKu5NSLPig6iZUZP_wkGGWo",
      "authorship_tag": "ABX9TyPlNoQrizBwTj1J1Ji//zEM",
      "include_colab_link": true
    },
    "kernelspec": {
      "name": "python3",
      "display_name": "Python 3"
    },
    "language_info": {
      "name": "python"
    }
  },
  "cells": [
    {
      "cell_type": "markdown",
      "metadata": {
        "id": "view-in-github",
        "colab_type": "text"
      },
      "source": [
        "<a href=\"https://colab.research.google.com/github/chadloh/GoogleDecimeterChallenge/blob/main/CarolineKeough/Madgwick_test.ipynb\" target=\"_parent\"><img src=\"https://colab.research.google.com/assets/colab-badge.svg\" alt=\"Open In Colab\"/></a>"
      ]
    },
    {
      "cell_type": "code",
      "source": [
        "pip install ahrs"
      ],
      "metadata": {
        "colab": {
          "base_uri": "https://localhost:8080/"
        },
        "id": "UVUJzoOP6c5E",
        "outputId": "3011e868-facf-463f-b74e-33ea891b4a50"
      },
      "execution_count": 8,
      "outputs": [
        {
          "output_type": "stream",
          "name": "stdout",
          "text": [
            "Looking in indexes: https://pypi.org/simple, https://us-python.pkg.dev/colab-wheels/public/simple/\n",
            "Collecting ahrs\n",
            "  Downloading AHRS-0.3.1-py3-none-any.whl (197 kB)\n",
            "\u001b[K     |████████████████████████████████| 197 kB 4.2 MB/s \n",
            "\u001b[?25hRequirement already satisfied: numpy in /usr/local/lib/python3.7/dist-packages (from ahrs) (1.21.6)\n",
            "Installing collected packages: ahrs\n",
            "Successfully installed ahrs-0.3.1\n"
          ]
        }
      ]
    },
    {
      "cell_type": "code",
      "execution_count": 9,
      "metadata": {
        "id": "59iOFvQM5MYM"
      },
      "outputs": [],
      "source": [
        "import math\n",
        "import numpy as np\n",
        "from cv2 import Rodrigues\n",
        "from math import sin, cos, atan2, sqrt\n",
        "import pandas as pd\n",
        "from pathlib import Path\n",
        "import ahrs"
      ]
    },
    {
      "cell_type": "code",
      "source": [
        "#Select files to train. Try to have different locations, routes, phones\n",
        "#LAX, MTV, SJC, SVL, SFO\n",
        "\n",
        "data_dir = Path('/content/drive/MyDrive/Google_decimeter/smartphone-decimeter-2022')\n",
        "\n",
        "train1 = Path('2021-12-28-US-MTV-1/SamsungGalaxyS20Ultra')\n",
        "train2 = Path('2021-12-15-US-MTV-1/GooglePixel5')\n",
        "train3 = Path('2021-12-09-US-LAX-2/GooglePixel6Pro')\n",
        "train4 = Path('2021-12-08-US-LAX-5/XiaomiMi8')\n",
        "train5 = Path('2021-08-24-US-SVL-1/GooglePixel4')\n",
        "train6 = Path('2021-08-04-US-SJC-1/GooglePixel5')\n",
        "train7 = Path('2021-07-27-US-MTV-1/XiaomiMi8')\n",
        "train8 = Path('2021-04-26-US-SVL-2/SamsungGalaxyS20Ultra')\n",
        "train9 = Path('2021-04-29-US-MTV-2/SamsungGalaxyS20Ultra')\n",
        "train10 = Path('2021-01-04-US-SFO-2/GooglePixel5') #this one won't have orientation deg"
      ],
      "metadata": {
        "id": "acqhS6fe5kss"
      },
      "execution_count": 2,
      "outputs": []
    },
    {
      "cell_type": "code",
      "source": [
        "imu_train1 = pd.read_csv(data_dir / 'train' / train1 / 'device_imu.csv')"
      ],
      "metadata": {
        "id": "FMMWoxEx5meO"
      },
      "execution_count": 4,
      "outputs": []
    },
    {
      "cell_type": "code",
      "source": [
        "imu_train1.head()"
      ],
      "metadata": {
        "colab": {
          "base_uri": "https://localhost:8080/",
          "height": 206
        },
        "id": "tbDqFxTb5uQn",
        "outputId": "9e44b002-9e0f-4ff2-bb0a-2159c84c9288"
      },
      "execution_count": 5,
      "outputs": [
        {
          "output_type": "execute_result",
          "data": {
            "text/plain": [
              "  MessageType  utcTimeMillis  MeasurementX  MeasurementY  MeasurementZ  BiasX  \\\n",
              "0   UncalGyro  1640722632003      0.000153      0.001756     -0.001069    0.0   \n",
              "1    UncalMag  1640722632003     81.659996    -57.780000    -32.100000   51.0   \n",
              "2  UncalAccel  1640722632004     -0.153229      9.665691     -2.063802    0.0   \n",
              "3    UncalMag  1640722632013     81.900000    -58.379997    -31.679998   51.0   \n",
              "4  UncalAccel  1640722632014     -0.117316      9.531616     -2.023100    0.0   \n",
              "\n",
              "   BiasY  BiasZ  \n",
              "0   0.00   0.00  \n",
              "1 -14.88 -56.76  \n",
              "2   0.00   0.00  \n",
              "3 -14.88 -56.76  \n",
              "4   0.00   0.00  "
            ],
            "text/html": [
              "\n",
              "  <div id=\"df-587025fa-faf6-4d0a-a781-9f50a4d2aaf4\">\n",
              "    <div class=\"colab-df-container\">\n",
              "      <div>\n",
              "<style scoped>\n",
              "    .dataframe tbody tr th:only-of-type {\n",
              "        vertical-align: middle;\n",
              "    }\n",
              "\n",
              "    .dataframe tbody tr th {\n",
              "        vertical-align: top;\n",
              "    }\n",
              "\n",
              "    .dataframe thead th {\n",
              "        text-align: right;\n",
              "    }\n",
              "</style>\n",
              "<table border=\"1\" class=\"dataframe\">\n",
              "  <thead>\n",
              "    <tr style=\"text-align: right;\">\n",
              "      <th></th>\n",
              "      <th>MessageType</th>\n",
              "      <th>utcTimeMillis</th>\n",
              "      <th>MeasurementX</th>\n",
              "      <th>MeasurementY</th>\n",
              "      <th>MeasurementZ</th>\n",
              "      <th>BiasX</th>\n",
              "      <th>BiasY</th>\n",
              "      <th>BiasZ</th>\n",
              "    </tr>\n",
              "  </thead>\n",
              "  <tbody>\n",
              "    <tr>\n",
              "      <th>0</th>\n",
              "      <td>UncalGyro</td>\n",
              "      <td>1640722632003</td>\n",
              "      <td>0.000153</td>\n",
              "      <td>0.001756</td>\n",
              "      <td>-0.001069</td>\n",
              "      <td>0.0</td>\n",
              "      <td>0.00</td>\n",
              "      <td>0.00</td>\n",
              "    </tr>\n",
              "    <tr>\n",
              "      <th>1</th>\n",
              "      <td>UncalMag</td>\n",
              "      <td>1640722632003</td>\n",
              "      <td>81.659996</td>\n",
              "      <td>-57.780000</td>\n",
              "      <td>-32.100000</td>\n",
              "      <td>51.0</td>\n",
              "      <td>-14.88</td>\n",
              "      <td>-56.76</td>\n",
              "    </tr>\n",
              "    <tr>\n",
              "      <th>2</th>\n",
              "      <td>UncalAccel</td>\n",
              "      <td>1640722632004</td>\n",
              "      <td>-0.153229</td>\n",
              "      <td>9.665691</td>\n",
              "      <td>-2.063802</td>\n",
              "      <td>0.0</td>\n",
              "      <td>0.00</td>\n",
              "      <td>0.00</td>\n",
              "    </tr>\n",
              "    <tr>\n",
              "      <th>3</th>\n",
              "      <td>UncalMag</td>\n",
              "      <td>1640722632013</td>\n",
              "      <td>81.900000</td>\n",
              "      <td>-58.379997</td>\n",
              "      <td>-31.679998</td>\n",
              "      <td>51.0</td>\n",
              "      <td>-14.88</td>\n",
              "      <td>-56.76</td>\n",
              "    </tr>\n",
              "    <tr>\n",
              "      <th>4</th>\n",
              "      <td>UncalAccel</td>\n",
              "      <td>1640722632014</td>\n",
              "      <td>-0.117316</td>\n",
              "      <td>9.531616</td>\n",
              "      <td>-2.023100</td>\n",
              "      <td>0.0</td>\n",
              "      <td>0.00</td>\n",
              "      <td>0.00</td>\n",
              "    </tr>\n",
              "  </tbody>\n",
              "</table>\n",
              "</div>\n",
              "      <button class=\"colab-df-convert\" onclick=\"convertToInteractive('df-587025fa-faf6-4d0a-a781-9f50a4d2aaf4')\"\n",
              "              title=\"Convert this dataframe to an interactive table.\"\n",
              "              style=\"display:none;\">\n",
              "        \n",
              "  <svg xmlns=\"http://www.w3.org/2000/svg\" height=\"24px\"viewBox=\"0 0 24 24\"\n",
              "       width=\"24px\">\n",
              "    <path d=\"M0 0h24v24H0V0z\" fill=\"none\"/>\n",
              "    <path d=\"M18.56 5.44l.94 2.06.94-2.06 2.06-.94-2.06-.94-.94-2.06-.94 2.06-2.06.94zm-11 1L8.5 8.5l.94-2.06 2.06-.94-2.06-.94L8.5 2.5l-.94 2.06-2.06.94zm10 10l.94 2.06.94-2.06 2.06-.94-2.06-.94-.94-2.06-.94 2.06-2.06.94z\"/><path d=\"M17.41 7.96l-1.37-1.37c-.4-.4-.92-.59-1.43-.59-.52 0-1.04.2-1.43.59L10.3 9.45l-7.72 7.72c-.78.78-.78 2.05 0 2.83L4 21.41c.39.39.9.59 1.41.59.51 0 1.02-.2 1.41-.59l7.78-7.78 2.81-2.81c.8-.78.8-2.07 0-2.86zM5.41 20L4 18.59l7.72-7.72 1.47 1.35L5.41 20z\"/>\n",
              "  </svg>\n",
              "      </button>\n",
              "      \n",
              "  <style>\n",
              "    .colab-df-container {\n",
              "      display:flex;\n",
              "      flex-wrap:wrap;\n",
              "      gap: 12px;\n",
              "    }\n",
              "\n",
              "    .colab-df-convert {\n",
              "      background-color: #E8F0FE;\n",
              "      border: none;\n",
              "      border-radius: 50%;\n",
              "      cursor: pointer;\n",
              "      display: none;\n",
              "      fill: #1967D2;\n",
              "      height: 32px;\n",
              "      padding: 0 0 0 0;\n",
              "      width: 32px;\n",
              "    }\n",
              "\n",
              "    .colab-df-convert:hover {\n",
              "      background-color: #E2EBFA;\n",
              "      box-shadow: 0px 1px 2px rgba(60, 64, 67, 0.3), 0px 1px 3px 1px rgba(60, 64, 67, 0.15);\n",
              "      fill: #174EA6;\n",
              "    }\n",
              "\n",
              "    [theme=dark] .colab-df-convert {\n",
              "      background-color: #3B4455;\n",
              "      fill: #D2E3FC;\n",
              "    }\n",
              "\n",
              "    [theme=dark] .colab-df-convert:hover {\n",
              "      background-color: #434B5C;\n",
              "      box-shadow: 0px 1px 3px 1px rgba(0, 0, 0, 0.15);\n",
              "      filter: drop-shadow(0px 1px 2px rgba(0, 0, 0, 0.3));\n",
              "      fill: #FFFFFF;\n",
              "    }\n",
              "  </style>\n",
              "\n",
              "      <script>\n",
              "        const buttonEl =\n",
              "          document.querySelector('#df-587025fa-faf6-4d0a-a781-9f50a4d2aaf4 button.colab-df-convert');\n",
              "        buttonEl.style.display =\n",
              "          google.colab.kernel.accessAllowed ? 'block' : 'none';\n",
              "\n",
              "        async function convertToInteractive(key) {\n",
              "          const element = document.querySelector('#df-587025fa-faf6-4d0a-a781-9f50a4d2aaf4');\n",
              "          const dataTable =\n",
              "            await google.colab.kernel.invokeFunction('convertToInteractive',\n",
              "                                                     [key], {});\n",
              "          if (!dataTable) return;\n",
              "\n",
              "          const docLinkHtml = 'Like what you see? Visit the ' +\n",
              "            '<a target=\"_blank\" href=https://colab.research.google.com/notebooks/data_table.ipynb>data table notebook</a>'\n",
              "            + ' to learn more about interactive tables.';\n",
              "          element.innerHTML = '';\n",
              "          dataTable['output_type'] = 'display_data';\n",
              "          await google.colab.output.renderOutput(dataTable, element);\n",
              "          const docLink = document.createElement('div');\n",
              "          docLink.innerHTML = docLinkHtml;\n",
              "          element.appendChild(docLink);\n",
              "        }\n",
              "      </script>\n",
              "    </div>\n",
              "  </div>\n",
              "  "
            ]
          },
          "metadata": {},
          "execution_count": 5
        }
      ]
    },
    {
      "cell_type": "code",
      "source": [
        "from ahrs.filters import Madgwick"
      ],
      "metadata": {
        "id": "jQ5SZxym57g0"
      },
      "execution_count": 10,
      "outputs": []
    },
    {
      "cell_type": "code",
      "source": [
        "gyro = imu_train1[imu_train1['MessageType'] == 'UncalGyro']\n",
        "gyro = gyro.drop(columns = ['BiasX', 'BiasY', 'BiasZ', 'MessageType'])\n",
        "gyro = gyro.rename(columns = {'MeasurementX': 'GyroX', 'MeasurementY': 'GyroY', 'MeasurementZ': 'GyroZ'})"
      ],
      "metadata": {
        "id": "5Q4aC8Il6IN4"
      },
      "execution_count": 37,
      "outputs": []
    },
    {
      "cell_type": "code",
      "source": [
        "accel = imu_train1[imu_train1['MessageType'] == 'UncalAccel']\n",
        "accel = accel.drop(columns = ['BiasX', 'BiasY', 'BiasZ', 'MessageType'])\n",
        "accel = accel.rename(columns = {'MeasurementX': 'AccelX', 'MeasurementY': 'AccelY', 'MeasurementZ': 'AccelZ'})"
      ],
      "metadata": {
        "id": "KX1L4B9O7Dty"
      },
      "execution_count": 38,
      "outputs": []
    },
    {
      "cell_type": "code",
      "source": [
        "mag = imu_train1[imu_train1['MessageType'] == 'UncalMag'].copy()\n",
        "mag['MagX'] = mag['MeasurementX'] - mag['BiasX']\n",
        "mag['MagY'] = mag['MeasurementY'] - mag['BiasY']\n",
        "mag['MagZ'] = mag['MeasurementZ'] - mag['BiasZ']\n",
        "mag = mag.drop(columns = ['MeasurementX', 'MeasurementY', 'MeasurementZ', 'BiasX', 'BiasY', 'BiasZ', 'MessageType'])"
      ],
      "metadata": {
        "id": "4xspUgd07M30"
      },
      "execution_count": 43,
      "outputs": []
    },
    {
      "cell_type": "code",
      "source": [
        "imu_df = pd.merge_asof(gyro.sort_values('utcTimeMillis'),\n",
        "                        accel.sort_values('utcTimeMillis'),\n",
        "                        on = 'utcTimeMillis',\n",
        "                        direction='nearest')"
      ],
      "metadata": {
        "id": "25xqBLJSDZrt"
      },
      "execution_count": 45,
      "outputs": []
    },
    {
      "cell_type": "code",
      "source": [
        "imu_df = pd.merge_asof(imu_df.sort_values('utcTimeMillis'),\n",
        "                        mag.sort_values('utcTimeMillis'),\n",
        "                        on = 'utcTimeMillis',\n",
        "                        direction='nearest')"
      ],
      "metadata": {
        "id": "Hc6XOvphExTf"
      },
      "execution_count": 48,
      "outputs": []
    },
    {
      "cell_type": "code",
      "source": [
        "sampling_step = ((imu_df['utcTimeMillis'].max() - imu_df['utcTimeMillis'].min())/len(imu_df))/1000"
      ],
      "metadata": {
        "id": "WljnE-qEHZcW"
      },
      "execution_count": 67,
      "outputs": []
    },
    {
      "cell_type": "code",
      "source": [
        "gyro_data = np.array(imu_df[['GyroX', 'GyroY', 'GyroZ']])\n",
        "acc_data = np.array(imu_df[['AccelX', 'AccelY', 'AccelZ']])\n",
        "mag_data = np.array(imu_df[['MagX', 'MagY', 'MagZ']])\n"
      ],
      "metadata": {
        "id": "51Vlg-MoFC0C"
      },
      "execution_count": 58,
      "outputs": []
    },
    {
      "cell_type": "code",
      "source": [
        "madgwick = Madgwick(gyr=gyro_data, acc=acc_data, mag=mag_data, gain_imu=0.01, gain_marg=0.05, Dt = sampling_step)\n",
        "#  N-by-3 array with measurements of angular velocity in rad/s\n"
      ],
      "metadata": {
        "id": "M8WuNJw67OYW"
      },
      "execution_count": 71,
      "outputs": []
    },
    {
      "cell_type": "code",
      "source": [
        "madgwick_df = pd.DataFrame(madgwick.Q)\n"
      ],
      "metadata": {
        "id": "wMcb1OQzGHJO"
      },
      "execution_count": 82,
      "outputs": []
    },
    {
      "cell_type": "code",
      "source": [
        "madgwick_df"
      ],
      "metadata": {
        "colab": {
          "base_uri": "https://localhost:8080/",
          "height": 424
        },
        "id": "uopUWcq6GWLu",
        "outputId": "166736d3-e34f-41a2-c7c7-aed349565daf"
      },
      "execution_count": 83,
      "outputs": [
        {
          "output_type": "execute_result",
          "data": {
            "text/plain": [
              "              0         1         2         3\n",
              "0      0.334828  0.402730  0.664905  0.532541\n",
              "1      0.335295  0.402584  0.664856  0.532420\n",
              "2      0.335738  0.402487  0.664852  0.532218\n",
              "3      0.336187  0.402371  0.664813  0.532071\n",
              "4      0.336646  0.402226  0.664788  0.531921\n",
              "...         ...       ...       ...       ...\n",
              "80749  0.615553  0.761898  0.161929  0.119932\n",
              "80750  0.615982  0.761452  0.162375  0.119963\n",
              "80751  0.615497  0.761801  0.162551  0.119999\n",
              "80752  0.615878  0.761488  0.162268  0.120413\n",
              "80753  0.615878  0.761488  0.162268  0.120413\n",
              "\n",
              "[80754 rows x 4 columns]"
            ],
            "text/html": [
              "\n",
              "  <div id=\"df-120eb69a-737c-496f-a335-5649852252fe\">\n",
              "    <div class=\"colab-df-container\">\n",
              "      <div>\n",
              "<style scoped>\n",
              "    .dataframe tbody tr th:only-of-type {\n",
              "        vertical-align: middle;\n",
              "    }\n",
              "\n",
              "    .dataframe tbody tr th {\n",
              "        vertical-align: top;\n",
              "    }\n",
              "\n",
              "    .dataframe thead th {\n",
              "        text-align: right;\n",
              "    }\n",
              "</style>\n",
              "<table border=\"1\" class=\"dataframe\">\n",
              "  <thead>\n",
              "    <tr style=\"text-align: right;\">\n",
              "      <th></th>\n",
              "      <th>0</th>\n",
              "      <th>1</th>\n",
              "      <th>2</th>\n",
              "      <th>3</th>\n",
              "    </tr>\n",
              "  </thead>\n",
              "  <tbody>\n",
              "    <tr>\n",
              "      <th>0</th>\n",
              "      <td>0.334828</td>\n",
              "      <td>0.402730</td>\n",
              "      <td>0.664905</td>\n",
              "      <td>0.532541</td>\n",
              "    </tr>\n",
              "    <tr>\n",
              "      <th>1</th>\n",
              "      <td>0.335295</td>\n",
              "      <td>0.402584</td>\n",
              "      <td>0.664856</td>\n",
              "      <td>0.532420</td>\n",
              "    </tr>\n",
              "    <tr>\n",
              "      <th>2</th>\n",
              "      <td>0.335738</td>\n",
              "      <td>0.402487</td>\n",
              "      <td>0.664852</td>\n",
              "      <td>0.532218</td>\n",
              "    </tr>\n",
              "    <tr>\n",
              "      <th>3</th>\n",
              "      <td>0.336187</td>\n",
              "      <td>0.402371</td>\n",
              "      <td>0.664813</td>\n",
              "      <td>0.532071</td>\n",
              "    </tr>\n",
              "    <tr>\n",
              "      <th>4</th>\n",
              "      <td>0.336646</td>\n",
              "      <td>0.402226</td>\n",
              "      <td>0.664788</td>\n",
              "      <td>0.531921</td>\n",
              "    </tr>\n",
              "    <tr>\n",
              "      <th>...</th>\n",
              "      <td>...</td>\n",
              "      <td>...</td>\n",
              "      <td>...</td>\n",
              "      <td>...</td>\n",
              "    </tr>\n",
              "    <tr>\n",
              "      <th>80749</th>\n",
              "      <td>0.615553</td>\n",
              "      <td>0.761898</td>\n",
              "      <td>0.161929</td>\n",
              "      <td>0.119932</td>\n",
              "    </tr>\n",
              "    <tr>\n",
              "      <th>80750</th>\n",
              "      <td>0.615982</td>\n",
              "      <td>0.761452</td>\n",
              "      <td>0.162375</td>\n",
              "      <td>0.119963</td>\n",
              "    </tr>\n",
              "    <tr>\n",
              "      <th>80751</th>\n",
              "      <td>0.615497</td>\n",
              "      <td>0.761801</td>\n",
              "      <td>0.162551</td>\n",
              "      <td>0.119999</td>\n",
              "    </tr>\n",
              "    <tr>\n",
              "      <th>80752</th>\n",
              "      <td>0.615878</td>\n",
              "      <td>0.761488</td>\n",
              "      <td>0.162268</td>\n",
              "      <td>0.120413</td>\n",
              "    </tr>\n",
              "    <tr>\n",
              "      <th>80753</th>\n",
              "      <td>0.615878</td>\n",
              "      <td>0.761488</td>\n",
              "      <td>0.162268</td>\n",
              "      <td>0.120413</td>\n",
              "    </tr>\n",
              "  </tbody>\n",
              "</table>\n",
              "<p>80754 rows × 4 columns</p>\n",
              "</div>\n",
              "      <button class=\"colab-df-convert\" onclick=\"convertToInteractive('df-120eb69a-737c-496f-a335-5649852252fe')\"\n",
              "              title=\"Convert this dataframe to an interactive table.\"\n",
              "              style=\"display:none;\">\n",
              "        \n",
              "  <svg xmlns=\"http://www.w3.org/2000/svg\" height=\"24px\"viewBox=\"0 0 24 24\"\n",
              "       width=\"24px\">\n",
              "    <path d=\"M0 0h24v24H0V0z\" fill=\"none\"/>\n",
              "    <path d=\"M18.56 5.44l.94 2.06.94-2.06 2.06-.94-2.06-.94-.94-2.06-.94 2.06-2.06.94zm-11 1L8.5 8.5l.94-2.06 2.06-.94-2.06-.94L8.5 2.5l-.94 2.06-2.06.94zm10 10l.94 2.06.94-2.06 2.06-.94-2.06-.94-.94-2.06-.94 2.06-2.06.94z\"/><path d=\"M17.41 7.96l-1.37-1.37c-.4-.4-.92-.59-1.43-.59-.52 0-1.04.2-1.43.59L10.3 9.45l-7.72 7.72c-.78.78-.78 2.05 0 2.83L4 21.41c.39.39.9.59 1.41.59.51 0 1.02-.2 1.41-.59l7.78-7.78 2.81-2.81c.8-.78.8-2.07 0-2.86zM5.41 20L4 18.59l7.72-7.72 1.47 1.35L5.41 20z\"/>\n",
              "  </svg>\n",
              "      </button>\n",
              "      \n",
              "  <style>\n",
              "    .colab-df-container {\n",
              "      display:flex;\n",
              "      flex-wrap:wrap;\n",
              "      gap: 12px;\n",
              "    }\n",
              "\n",
              "    .colab-df-convert {\n",
              "      background-color: #E8F0FE;\n",
              "      border: none;\n",
              "      border-radius: 50%;\n",
              "      cursor: pointer;\n",
              "      display: none;\n",
              "      fill: #1967D2;\n",
              "      height: 32px;\n",
              "      padding: 0 0 0 0;\n",
              "      width: 32px;\n",
              "    }\n",
              "\n",
              "    .colab-df-convert:hover {\n",
              "      background-color: #E2EBFA;\n",
              "      box-shadow: 0px 1px 2px rgba(60, 64, 67, 0.3), 0px 1px 3px 1px rgba(60, 64, 67, 0.15);\n",
              "      fill: #174EA6;\n",
              "    }\n",
              "\n",
              "    [theme=dark] .colab-df-convert {\n",
              "      background-color: #3B4455;\n",
              "      fill: #D2E3FC;\n",
              "    }\n",
              "\n",
              "    [theme=dark] .colab-df-convert:hover {\n",
              "      background-color: #434B5C;\n",
              "      box-shadow: 0px 1px 3px 1px rgba(0, 0, 0, 0.15);\n",
              "      filter: drop-shadow(0px 1px 2px rgba(0, 0, 0, 0.3));\n",
              "      fill: #FFFFFF;\n",
              "    }\n",
              "  </style>\n",
              "\n",
              "      <script>\n",
              "        const buttonEl =\n",
              "          document.querySelector('#df-120eb69a-737c-496f-a335-5649852252fe button.colab-df-convert');\n",
              "        buttonEl.style.display =\n",
              "          google.colab.kernel.accessAllowed ? 'block' : 'none';\n",
              "\n",
              "        async function convertToInteractive(key) {\n",
              "          const element = document.querySelector('#df-120eb69a-737c-496f-a335-5649852252fe');\n",
              "          const dataTable =\n",
              "            await google.colab.kernel.invokeFunction('convertToInteractive',\n",
              "                                                     [key], {});\n",
              "          if (!dataTable) return;\n",
              "\n",
              "          const docLinkHtml = 'Like what you see? Visit the ' +\n",
              "            '<a target=\"_blank\" href=https://colab.research.google.com/notebooks/data_table.ipynb>data table notebook</a>'\n",
              "            + ' to learn more about interactive tables.';\n",
              "          element.innerHTML = '';\n",
              "          dataTable['output_type'] = 'display_data';\n",
              "          await google.colab.output.renderOutput(dataTable, element);\n",
              "          const docLink = document.createElement('div');\n",
              "          docLink.innerHTML = docLinkHtml;\n",
              "          element.appendChild(docLink);\n",
              "        }\n",
              "      </script>\n",
              "    </div>\n",
              "  </div>\n",
              "  "
            ]
          },
          "metadata": {},
          "execution_count": 83
        }
      ]
    },
    {
      "cell_type": "code",
      "source": [
        "pip install pygame"
      ],
      "metadata": {
        "colab": {
          "base_uri": "https://localhost:8080/"
        },
        "id": "WFynSzPQq05s",
        "outputId": "fc44d381-1860-4282-9fb5-1e12d7bc0840"
      },
      "execution_count": 86,
      "outputs": [
        {
          "output_type": "stream",
          "name": "stdout",
          "text": [
            "Looking in indexes: https://pypi.org/simple, https://us-python.pkg.dev/colab-wheels/public/simple/\n",
            "Collecting pygame\n",
            "  Downloading pygame-2.1.2-cp37-cp37m-manylinux_2_17_x86_64.manylinux2014_x86_64.whl (21.8 MB)\n",
            "\u001b[K     |████████████████████████████████| 21.8 MB 1.6 MB/s \n",
            "\u001b[?25hInstalling collected packages: pygame\n",
            "Successfully installed pygame-2.1.2\n"
          ]
        }
      ]
    },
    {
      "cell_type": "code",
      "source": [
        "import pygame"
      ],
      "metadata": {
        "colab": {
          "base_uri": "https://localhost:8080/"
        },
        "id": "VB_9ETxqq4l1",
        "outputId": "0f50f3e4-48e5-4b2d-a885-53e7bb56184e"
      },
      "execution_count": 87,
      "outputs": [
        {
          "output_type": "stream",
          "name": "stdout",
          "text": [
            "pygame 2.1.2 (SDL 2.0.16, Python 3.7.13)\n",
            "Hello from the pygame community. https://www.pygame.org/contribute.html\n"
          ]
        }
      ]
    },
    {
      "cell_type": "code",
      "source": [
        "#well does the 1 2 columns make a plot?\n",
        "\n",
        "pygame.draw.line(screen, (255,0,255), (20,20), (70,80), 2)\n"
      ],
      "metadata": {
        "colab": {
          "base_uri": "https://localhost:8080/",
          "height": 204
        },
        "id": "JqG9nERkmujS",
        "outputId": "c0c2d375-4e95-4547-dcdd-5a538ac4b192"
      },
      "execution_count": 88,
      "outputs": [
        {
          "output_type": "error",
          "ename": "NameError",
          "evalue": "ignored",
          "traceback": [
            "\u001b[0;31m---------------------------------------------------------------------------\u001b[0m",
            "\u001b[0;31mNameError\u001b[0m                                 Traceback (most recent call last)",
            "\u001b[0;32m<ipython-input-88-b6d6fafae667>\u001b[0m in \u001b[0;36m<module>\u001b[0;34m()\u001b[0m\n\u001b[1;32m      1\u001b[0m \u001b[0;31m#well does the 1 2 columns make a plot?\u001b[0m\u001b[0;34m\u001b[0m\u001b[0;34m\u001b[0m\u001b[0;34m\u001b[0m\u001b[0m\n\u001b[1;32m      2\u001b[0m \u001b[0;34m\u001b[0m\u001b[0m\n\u001b[0;32m----> 3\u001b[0;31m \u001b[0mpygame\u001b[0m\u001b[0;34m.\u001b[0m\u001b[0mdraw\u001b[0m\u001b[0;34m.\u001b[0m\u001b[0mline\u001b[0m\u001b[0;34m(\u001b[0m\u001b[0mscreen\u001b[0m\u001b[0;34m,\u001b[0m \u001b[0;34m(\u001b[0m\u001b[0;36m255\u001b[0m\u001b[0;34m,\u001b[0m\u001b[0;36m0\u001b[0m\u001b[0;34m,\u001b[0m\u001b[0;36m255\u001b[0m\u001b[0;34m)\u001b[0m\u001b[0;34m,\u001b[0m \u001b[0;34m(\u001b[0m\u001b[0;36m20\u001b[0m\u001b[0;34m,\u001b[0m\u001b[0;36m20\u001b[0m\u001b[0;34m)\u001b[0m\u001b[0;34m,\u001b[0m \u001b[0;34m(\u001b[0m\u001b[0;36m70\u001b[0m\u001b[0;34m,\u001b[0m\u001b[0;36m80\u001b[0m\u001b[0;34m)\u001b[0m\u001b[0;34m,\u001b[0m \u001b[0;36m2\u001b[0m\u001b[0;34m)\u001b[0m\u001b[0;34m\u001b[0m\u001b[0;34m\u001b[0m\u001b[0m\n\u001b[0m",
            "\u001b[0;31mNameError\u001b[0m: name 'screen' is not defined"
          ]
        }
      ]
    },
    {
      "cell_type": "code",
      "source": [
        "madgwick_df[1][1:1000]"
      ],
      "metadata": {
        "colab": {
          "base_uri": "https://localhost:8080/"
        },
        "id": "ImQfxDAQrITr",
        "outputId": "994f7f08-6f7a-4f53-d7c3-37aba0b5cd0b"
      },
      "execution_count": 94,
      "outputs": [
        {
          "output_type": "execute_result",
          "data": {
            "text/plain": [
              "1      0.402584\n",
              "2      0.402487\n",
              "3      0.402371\n",
              "4      0.402226\n",
              "5      0.402134\n",
              "         ...   \n",
              "995    0.450375\n",
              "996    0.450483\n",
              "997    0.450151\n",
              "998    0.449949\n",
              "999    0.449603\n",
              "Name: 1, Length: 999, dtype: float64"
            ]
          },
          "metadata": {},
          "execution_count": 94
        }
      ]
    },
    {
      "cell_type": "code",
      "source": [
        "madgwick_df[2][0:1000]"
      ],
      "metadata": {
        "colab": {
          "base_uri": "https://localhost:8080/"
        },
        "id": "02XmLwTUrioM",
        "outputId": "02b696ba-9600-436c-f641-b8aacc79a923"
      },
      "execution_count": 96,
      "outputs": [
        {
          "output_type": "execute_result",
          "data": {
            "text/plain": [
              "0      0.664905\n",
              "1      0.664856\n",
              "2      0.664852\n",
              "3      0.664813\n",
              "4      0.664788\n",
              "         ...   \n",
              "995    0.632711\n",
              "996    0.633067\n",
              "997    0.633169\n",
              "998    0.633422\n",
              "999    0.633627\n",
              "Name: 2, Length: 1000, dtype: float64"
            ]
          },
          "metadata": {},
          "execution_count": 96
        }
      ]
    },
    {
      "cell_type": "code",
      "source": [
        "import matplotlib.pyplot as plt\n",
        "plt.plot([madgwick_df[1][0:1000]],[madgwick_df[2][0:1000]])\n",
        "plt.show()"
      ],
      "metadata": {
        "colab": {
          "base_uri": "https://localhost:8080/",
          "height": 265
        },
        "id": "XYEo4I8ErDs-",
        "outputId": "5c9edc28-9caa-4af5-d8e7-10ff696b73af"
      },
      "execution_count": 95,
      "outputs": [
        {
          "output_type": "display_data",
          "data": {
            "text/plain": [
              "<Figure size 432x288 with 1 Axes>"
            ],
            "image/png": "[encoded data removed]"
          },
          "metadata": {
            "needs_background": "light"
          }
        }
      ]
    },
    {
      "cell_type": "code",
      "source": [
        ""
      ],
      "metadata": {
        "id": "ffrMfVaVn6Qr"
      },
      "execution_count": null,
      "outputs": []
    }
  ]
}