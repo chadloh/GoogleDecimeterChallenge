{
 "cells": [
  {
   "cell_type": "markdown",
   "id": "c94357fc",
   "metadata": {},
   "source": [
    "Look at IMU data\n",
    "\n",
    "https://www.kaggle.com/code/alvinai9603/predict-next-point-with-the-imu-data"
   ]
  },
  {
   "cell_type": "code",
   "execution_count": 1,
   "id": "f4f1664e",
   "metadata": {
    "scrolled": true
   },
   "outputs": [
    {
     "ename": "ModuleNotFoundError",
     "evalue": "No module named 'cv2'",
     "output_type": "error",
     "traceback": [
      "\u001b[0;31m---------------------------------------------------------------------------\u001b[0m",
      "\u001b[0;31mModuleNotFoundError\u001b[0m                       Traceback (most recent call last)",
      "Input \u001b[0;32mIn [1]\u001b[0m, in \u001b[0;36m<cell line: 3>\u001b[0;34m()\u001b[0m\n\u001b[1;32m      1\u001b[0m \u001b[38;5;28;01mimport\u001b[39;00m \u001b[38;5;21;01mmath\u001b[39;00m\n\u001b[1;32m      2\u001b[0m \u001b[38;5;28;01mimport\u001b[39;00m \u001b[38;5;21;01mnumpy\u001b[39;00m \u001b[38;5;28;01mas\u001b[39;00m \u001b[38;5;21;01mnp\u001b[39;00m\n\u001b[0;32m----> 3\u001b[0m \u001b[38;5;28;01mfrom\u001b[39;00m \u001b[38;5;21;01mcv2\u001b[39;00m \u001b[38;5;28;01mimport\u001b[39;00m Rodrigues\n\u001b[1;32m      4\u001b[0m \u001b[38;5;28;01mfrom\u001b[39;00m \u001b[38;5;21;01mmath\u001b[39;00m \u001b[38;5;28;01mimport\u001b[39;00m sin, cos, atan2, sqrt\n\u001b[1;32m      5\u001b[0m \u001b[38;5;28;01mimport\u001b[39;00m \u001b[38;5;21;01mpandas\u001b[39;00m \u001b[38;5;28;01mas\u001b[39;00m \u001b[38;5;21;01mpd\u001b[39;00m\n",
      "\u001b[0;31mModuleNotFoundError\u001b[0m: No module named 'cv2'"
     ]
    }
   ],
   "source": [
    "import math\n",
    "import numpy as np\n",
    "from cv2 import Rodrigues\n",
    "from math import sin, cos, atan2, sqrt\n",
    "import pandas as pd\n",
    "from pathlib import Path\n",
    "import pyproj\n",
    "from pyproj import Proj, transform\n",
    "import matplotlib.pyplot as plt\n",
    "import plotly.express as px\n",
    "from sklearn.preprocessing import LabelEncoder\n",
    "from sklearn.model_selection import KFold, TimeSeriesSplit\n",
    "from sklearn.metrics import accuracy_score\n",
    "import lightgbm as lgb\n",
    "from tqdm import tqdm\n",
    "import warnings\n",
    "warnings.filterwarnings(\"ignore\", category=Warning)"
   ]
  },
  {
   "cell_type": "code",
   "execution_count": null,
   "id": "f45a53b0",
   "metadata": {},
   "outputs": [],
   "source": [
    "#pip install opencv-python\n",
    "# https://stackoverflow.com/questions/51853018/how-do-i-install-opencv-using-pip"
   ]
  },
  {
   "cell_type": "code",
   "execution_count": null,
   "id": "f8a44fab",
   "metadata": {},
   "outputs": [],
   "source": [
    "data_dir = Path('../data/2021-07-19-US-MTV-1/GooglePixel4')\n",
    "\n",
    "# tbh not sure what these should be\n",
    "bl_trn_fname = 'baseline_locations_train.csv'\n",
    "bl_tst_fname = 'baseline_locations_test.csv'\n",
    "sample_fname = 'sample_submission.csv'"
   ]
  },
  {
   "cell_type": "code",
   "execution_count": null,
   "id": "54669655",
   "metadata": {},
   "outputs": [],
   "source": [
    "bl_trn_df = pd.read_csv(data_dir / bl_trn_fname)\n",
    "bl_tst_df = pd.read_csv(data_dir / bl_tst_fname)\n",
    "sample_df = pd.read_csv(data_dir / sample_fname)"
   ]
  },
  {
   "cell_type": "code",
   "execution_count": null,
   "id": "8fa411f5",
   "metadata": {},
   "outputs": [],
   "source": [
    "print('Baseline Train shape:', bl_trn_df.shape)\n",
    "print('Baseline Test shape:', bl_tst_df.shape)\n",
    "print('Test shape:', sample_df.shape)"
   ]
  },
  {
   "cell_type": "markdown",
   "id": "b82b216b",
   "metadata": {},
   "source": [
    "1. Euler Angles to Rotation Vector\n",
    "Euler Angles <-> Rotation Matrix <-> Rotation Vector\n",
    "More info.:About IMU: OrientationDeg to Rotation Vector"
   ]
  },
  {
   "cell_type": "code",
   "execution_count": null,
   "id": "be92d1f6",
   "metadata": {},
   "outputs": [],
   "source": []
  }
 ],
 "metadata": {
  "kernelspec": {
   "display_name": "Python 3 (ipykernel)",
   "language": "python",
   "name": "python3"
  },
  "language_info": {
   "codemirror_mode": {
    "name": "ipython",
    "version": 3
   },
   "file_extension": ".py",
   "mimetype": "text/x-python",
   "name": "python",
   "nbconvert_exporter": "python",
   "pygments_lexer": "ipython3",
   "version": "3.9.7"
  }
 },
 "nbformat": 4,
 "nbformat_minor": 5
}
