{
 "cells": [
  {
   "cell_type": "markdown",
   "id": "5ba9907e",
   "metadata": {},
   "source": [
    "Look at only L5 frequency data and see what happens?"
   ]
  },
  {
   "cell_type": "code",
   "execution_count": null,
   "id": "e3e55f3f",
   "metadata": {},
   "outputs": [],
   "source": []
  }
 ],
 "metadata": {
  "kernelspec": {
   "display_name": "Python 3 (ipykernel)",
   "language": "python",
   "name": "python3"
  },
  "language_info": {
   "codemirror_mode": {
    "name": "ipython",
    "version": 3
   },
   "file_extension": ".py",
   "mimetype": "text/x-python",
   "name": "python",
   "nbconvert_exporter": "python",
   "pygments_lexer": "ipython3",
   "version": "3.9.7"
  }
 },
 "nbformat": 4,
 "nbformat_minor": 5
}
