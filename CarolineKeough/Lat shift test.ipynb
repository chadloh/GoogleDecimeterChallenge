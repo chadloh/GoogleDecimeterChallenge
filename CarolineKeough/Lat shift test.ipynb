{
 "cells": [
  {
   "cell_type": "markdown",
   "id": "c658c64b",
   "metadata": {},
   "source": [
    "This is kind of a silly idea but I just want to see what the distace error would be if I subtracted the median lat error from the google pixel 4 lat values"
   ]
  },
  {
   "cell_type": "code",
   "execution_count": 1,
   "id": "31132add",
   "metadata": {},
   "outputs": [],
   "source": [
    "import math\n",
    "import numpy as np\n",
    "import pandas as pd\n",
    "import pymap3d as pm\n",
    "import pymap3d.vincenty as pmv\n",
    "import matplotlib.pyplot as plt\n",
    "import glob as gl \n",
    "import scipy.optimize\n",
    "from tqdm.auto import tqdm\n",
    "from scipy.interpolate import InterpolatedUnivariateSpline\n",
    "from scipy.spatial import distance\n",
    "from scipy import signal\n",
    "import pyproj as proj\n",
    "import warnings\n",
    "warnings.filterwarnings('ignore', category=FutureWarning)\n",
    "warnings.filterwarnings(\"ignore\", category=DeprecationWarning) \n",
    "# Constants\n",
    "CLIGHT = 299_792_458   # speed of light (m/s)\n",
    "RE_WGS84 = 6_378_137   # earth semimajor axis (WGS84) (m)\n",
    "OMGE = 7.2921151467E-5  # earth angular velocity (IS-GPS) (rad/s)"
   ]
  },
  {
   "cell_type": "code",
   "execution_count": 2,
   "id": "27f3f114",
   "metadata": {},
   "outputs": [],
   "source": [
    "# Satellite selection using carrier frequency error, elevation angle, and C/N0\n",
    "def satellite_selection(df, column):\n",
    "    \"\"\"\n",
    "    Args:\n",
    "        df : DataFrame from device_gnss.csv\n",
    "        column : Column name\n",
    "    Returns:\n",
    "        df: DataFrame with eliminated satellite signals\n",
    "    \"\"\"\n",
    "    idx = df[column].notnull()\n",
    "    idx &= df['CarrierErrorHz'] < 2.0e6         # carrier frequency error (Hz)\n",
    "    idx &= df['SvElevationDegrees'] > 10.0      # elevation angle (deg)\n",
    "    idx &= df['Cn0DbHz'] > 15.0                 # C/N0 (dB-Hz)\n",
    "    idx &= df['MultipathIndicator'] == 0        # Multipath flag\n",
    "\n",
    "    return df[idx]"
   ]
  },
  {
   "cell_type": "code",
   "execution_count": 3,
   "id": "1efe47ef",
   "metadata": {},
   "outputs": [],
   "source": [
    "# GNSS single point positioning using pseudorange\n",
    "def point_positioning(gnss_df):\n",
    "    # Add nominal frequency to each signal\n",
    "    # Note: GLONASS is an FDMA signal, so each satellite has a different frequency\n",
    "    CarrierFrequencyHzRef = gnss_df.groupby(['Svid', 'SignalType'])[\n",
    "        'CarrierFrequencyHz'].median()\n",
    "    gnss_df = gnss_df.merge(CarrierFrequencyHzRef, how='left', on=[\n",
    "                            'Svid', 'SignalType'], suffixes=('', 'Ref'))\n",
    "    gnss_df['CarrierErrorHz'] = np.abs(\n",
    "        (gnss_df['CarrierFrequencyHz'] - gnss_df['CarrierFrequencyHzRef']))\n",
    "\n",
    "    # Carrier smoothing\n",
    "    gnss_df = carrier_smoothing(gnss_df)\n",
    "\n",
    "    # GNSS single point positioning\n",
    "    utcTimeMillis = gnss_df['utcTimeMillis'].unique()\n",
    "    nepoch = len(utcTimeMillis)\n",
    "    x0 = np.zeros(4)  # [x,y,z,tGPSL1]\n",
    "    v0 = np.zeros(4)  # [vx,vy,vz,dtGPSL1]\n",
    "    x_wls = np.full([nepoch, 3], np.nan)  # For saving position\n",
    "    v_wls = np.full([nepoch, 3], np.nan)  # For saving velocity\n",
    "\n",
    "    # Loop for epochs\n",
    "    for i, (t_utc, df) in enumerate(tqdm(gnss_df.groupby('utcTimeMillis'), total=nepoch)):\n",
    "        # Valid satellite selection\n",
    "        df_pr = satellite_selection(df, 'pr_smooth')\n",
    "        df_prr = satellite_selection(df, 'PseudorangeRateMetersPerSecond')\n",
    "\n",
    "        # Corrected pseudorange/pseudorange rate\n",
    "        pr = (df_pr['pr_smooth'] + df_pr['SvClockBiasMeters'] - df_pr['IsrbMeters'] -\n",
    "              df_pr['IonosphericDelayMeters'] - df_pr['TroposphericDelayMeters']).to_numpy()\n",
    "        prr = (df_prr['PseudorangeRateMetersPerSecond'] +\n",
    "               df_prr['SvClockDriftMetersPerSecond']).to_numpy()\n",
    "\n",
    "        # Satellite position/velocity\n",
    "        xsat_pr = df_pr[['SvPositionXEcefMeters', 'SvPositionYEcefMeters',\n",
    "                         'SvPositionZEcefMeters']].to_numpy()\n",
    "        xsat_prr = df_prr[['SvPositionXEcefMeters', 'SvPositionYEcefMeters',\n",
    "                           'SvPositionZEcefMeters']].to_numpy()\n",
    "        vsat = df_prr[['SvVelocityXEcefMetersPerSecond', 'SvVelocityYEcefMetersPerSecond',\n",
    "                       'SvVelocityZEcefMetersPerSecond']].to_numpy()\n",
    "\n",
    "        # Weight matrix for peseudorange/pseudorange rate\n",
    "        Wx = np.diag(1 / df_pr['RawPseudorangeUncertaintyMeters'].to_numpy())\n",
    "        Wv = np.diag(1 / df_prr['PseudorangeRateUncertaintyMetersPerSecond'].to_numpy())\n",
    "\n",
    "        # Robust WLS requires accurate initial values for convergence,\n",
    "        # so perform normal WLS for the first time\n",
    "        if len(df_pr) >= 4:\n",
    "            # Normal WLS\n",
    "            if np.all(x0 == 0):\n",
    "                opt = scipy.optimize.least_squares(\n",
    "                    pr_residuals, x0, jac_pr_residuals, args=(xsat_pr, pr, Wx))\n",
    "                x0 = opt.x \n",
    "            # Robust WLS for position estimation\n",
    "            opt = scipy.optimize.least_squares(\n",
    "                 pr_residuals, x0, jac_pr_residuals, args=(xsat_pr, pr, Wx), loss='soft_l1')\n",
    "            if opt.status < 1 or opt.status == 2:\n",
    "                 print(f'i = {i} position lsq status = {opt.status}')\n",
    "            else:\n",
    "                 x_wls[i, :] = opt.x[:3]\n",
    "                 x0 = opt.x\n",
    "                 \n",
    "        # Velocity estimation\n",
    "        if len(df_prr) >= 4:\n",
    "            if np.all(v0 == 0): # Normal WLS\n",
    "                opt = scipy.optimize.least_squares(\n",
    "                    prr_residuals, v0, jac_prr_residuals, args=(vsat, prr, x0, xsat_prr, Wv))\n",
    "                v0 = opt.x\n",
    "            # Robust WLS for velocity estimation\n",
    "            opt = scipy.optimize.least_squares(\n",
    "                prr_residuals, v0, jac_prr_residuals, args=(vsat, prr, x0, xsat_prr, Wv), loss='soft_l1')\n",
    "            if opt.status < 1:\n",
    "                print(f'i = {i} velocity lsq status = {opt.status}')\n",
    "            else:\n",
    "                v_wls[i, :] = opt.x[:3]\n",
    "                v0 = opt.x\n",
    "\n",
    "    return utcTimeMillis, x_wls, v_wls"
   ]
  },
  {
   "cell_type": "code",
   "execution_count": 62,
   "id": "5d49b1d8",
   "metadata": {},
   "outputs": [
    {
     "ename": "NameError",
     "evalue": "name 'df_pr' is not defined",
     "output_type": "error",
     "traceback": [
      "\u001b[0;31m---------------------------------------------------------------------------\u001b[0m",
      "\u001b[0;31mNameError\u001b[0m                                 Traceback (most recent call last)",
      "Input \u001b[0;32mIn [62]\u001b[0m, in \u001b[0;36m<cell line: 1>\u001b[0;34m()\u001b[0m\n\u001b[0;32m----> 1\u001b[0m \u001b[43mdf_pr\u001b[49m\n",
      "\u001b[0;31mNameError\u001b[0m: name 'df_pr' is not defined"
     ]
    }
   ],
   "source": [
    "df_pr"
   ]
  },
  {
   "cell_type": "code",
   "execution_count": 4,
   "id": "56887688",
   "metadata": {},
   "outputs": [],
   "source": [
    "# Carrier smoothing of pseudarange\n",
    "def carrier_smoothing(gnss_df):\n",
    "    \"\"\"\n",
    "    Args:\n",
    "        df : DataFrame from device_gnss.csv\n",
    "    Returns:\n",
    "        df: DataFrame with carrier-smoothing pseudorange 'pr_smooth'\n",
    "    \"\"\"\n",
    "    carr_th = 1.6 # carrier phase jump threshold [m] 2->1.5 (best)->1.0\n",
    "    pr_th =  20.0 # pseudorange jump threshold [m] 20->15\n",
    "\n",
    "    prsmooth = np.full_like(gnss_df['RawPseudorangeMeters'], np.nan)\n",
    "    # Loop for each signal\n",
    "    for (i, (svid_sigtype, df)) in enumerate((gnss_df.groupby(['Svid', 'SignalType']))):\n",
    "        df = df.replace(\n",
    "            {'AccumulatedDeltaRangeMeters': {0: np.nan}})  # 0 to NaN\n",
    "\n",
    "        # Compare time difference between pseudorange/carrier with Doppler\n",
    "        drng1 = df['AccumulatedDeltaRangeMeters'].diff() - df['PseudorangeRateMetersPerSecond']\n",
    "        drng2 = df['RawPseudorangeMeters'].diff() - df['PseudorangeRateMetersPerSecond']\n",
    "\n",
    "        # Check cycle-slip\n",
    "        slip1 = (df['AccumulatedDeltaRangeState'].to_numpy() & 2**1) != 0  # reset flag\n",
    "        slip2 = (df['AccumulatedDeltaRangeState'].to_numpy() & 2**2) != 0  # cycle-slip flag\n",
    "        slip3 = np.fabs(drng1.to_numpy()) > carr_th # Carrier phase jump\n",
    "        slip4 = np.fabs(drng2.to_numpy()) > pr_th # Pseudorange jump\n",
    "\n",
    "        idx_slip = slip1 | slip2 | slip3 | slip4\n",
    "        idx_slip[0] = True\n",
    "\n",
    "        # groups with continuous carrier phase tracking\n",
    "        df['group_slip'] = np.cumsum(idx_slip)\n",
    "\n",
    "        # Psudorange - carrier phase\n",
    "        df['dpc'] = df['RawPseudorangeMeters'] - df['AccumulatedDeltaRangeMeters']\n",
    "\n",
    "        # Absolute distance bias of carrier phase\n",
    "        meandpc = df.groupby('group_slip')['dpc'].mean()\n",
    "        df = df.merge(meandpc, on='group_slip', suffixes=('', '_Mean'))\n",
    "\n",
    "        # Index of original gnss_df\n",
    "        idx = (gnss_df['Svid'] == svid_sigtype[0]) & (\n",
    "            gnss_df['SignalType'] == svid_sigtype[1])\n",
    "\n",
    "        # Carrier phase + bias\n",
    "        prsmooth[idx] = df['AccumulatedDeltaRangeMeters'] + df['dpc_Mean']\n",
    "\n",
    "    # If carrier smoothing is not possible, use original pseudorange\n",
    "    idx_nan = np.isnan(prsmooth)\n",
    "    prsmooth[idx_nan] = gnss_df['RawPseudorangeMeters'][idx_nan]\n",
    "    gnss_df['pr_smooth'] = prsmooth\n",
    "\n",
    "    return gnss_df"
   ]
  },
  {
   "cell_type": "code",
   "execution_count": 5,
   "id": "2c390373",
   "metadata": {},
   "outputs": [],
   "source": [
    "# Compute line-of-sight vector from user to satellite\n",
    "def los_vector(xusr, xsat):\n",
    "    \"\"\"\n",
    "    Args:\n",
    "        xusr : user position in ECEF (m)\n",
    "        xsat : satellite position in ECEF (m)\n",
    "    Returns:\n",
    "        u: unit line-of-sight vector in ECEF (m)\n",
    "        rng: distance between user and satellite (m)\n",
    "    \"\"\"\n",
    "    u = xsat - xusr\n",
    "    rng = np.linalg.norm(u, axis=1).reshape(-1, 1)\n",
    "    u /= rng\n",
    "    \n",
    "    return u, rng.reshape(-1)\n",
    "\n",
    "\n",
    "# Compute Jacobian matrix\n",
    "def jac_pr_residuals(x, xsat, pr, W):\n",
    "    \"\"\"\n",
    "    Args:\n",
    "        x : current position in ECEF (m)\n",
    "        xsat : satellite position in ECEF (m)\n",
    "        pr : pseudorange (m)\n",
    "        W : weight matrix\n",
    "    Returns:\n",
    "        W*J : Jacobian matrix\n",
    "    \"\"\"\n",
    "    u, _ = los_vector(x[:3], xsat)\n",
    "    J = np.hstack([-u, np.ones([len(pr), 1])])  # J = [-ux -uy -uz 1]\n",
    "\n",
    "    return W @ J\n",
    "\n",
    "\n",
    "# Compute pseudorange residuals\n",
    "def pr_residuals(x, xsat, pr, W):\n",
    "    \"\"\"\n",
    "    Args:\n",
    "        x : current position in ECEF (m)\n",
    "        xsat : satellite position in ECEF (m)\n",
    "        pr : pseudorange (m)\n",
    "        W : weight matrix\n",
    "    Returns:\n",
    "        residuals*W : pseudorange residuals\n",
    "    \"\"\"\n",
    "    u, rng = los_vector(x[:3], xsat)\n",
    "\n",
    "    # Approximate correction of the earth rotation (Sagnac effect) often used in GNSS positioning\n",
    "    rng += OMGE * (xsat[:, 0] * x[1] - xsat[:, 1] * x[0]) / CLIGHT\n",
    "\n",
    "    # Add GPS L1 clock offset\n",
    "    residuals = rng - (pr - x[3])\n",
    "\n",
    "    return residuals @ W\n",
    "\n",
    "\n",
    "# Compute Jacobian matrix\n",
    "def jac_prr_residuals(v, vsat, prr, x, xsat, W):\n",
    "    \"\"\"\n",
    "    Args:\n",
    "        v : current velocity in ECEF (m/s)\n",
    "        vsat : satellite velocity in ECEF (m/s)\n",
    "        prr : pseudorange rate (m/s)\n",
    "        x : current position in ECEF (m)\n",
    "        xsat : satellite position in ECEF (m)\n",
    "        W : weight matrix\n",
    "    Returns:\n",
    "        W*J : Jacobian matrix\n",
    "    \"\"\"\n",
    "    u, _ = los_vector(x[:3], xsat)\n",
    "    J = np.hstack([-u, np.ones([len(prr), 1])])\n",
    "\n",
    "    return np.dot(W, J)\n",
    "\n",
    "\n",
    "# Compute pseudorange rate residuals\n",
    "def prr_residuals(v, vsat, prr, x, xsat, W):\n",
    "    \"\"\"\n",
    "    Args:\n",
    "        v : current velocity in ECEF (m/s)\n",
    "        vsat : satellite velocity in ECEF (m/s)\n",
    "        prr : pseudorange rate (m/s)\n",
    "        x : current position in ECEF (m)\n",
    "        xsat : satellite position in ECEF (m)\n",
    "        W : weight matrix\n",
    "    Returns:\n",
    "        residuals*W : pseudorange rate residuals\n",
    "    \"\"\"\n",
    "    u, rng = los_vector(x[:3], xsat)\n",
    "    rate = np.sum((vsat-v[:3])*u, axis=1) \\\n",
    "          + OMGE / CLIGHT * (vsat[:, 1] * x[0] + xsat[:, 1] * v[0]\n",
    "                           - vsat[:, 0] * x[1] - xsat[:, 0] * v[1])\n",
    "\n",
    "    residuals = rate - (prr - v[3])\n",
    "\n",
    "    return residuals @ W"
   ]
  },
  {
   "cell_type": "code",
   "execution_count": 6,
   "id": "1782dac3",
   "metadata": {},
   "outputs": [],
   "source": [
    "# Simple outlier detection and interpolation\n",
    "def exclude_interpolate_outlier(x_wls, v_wls):\n",
    "    # Up velocity threshold\n",
    "    v_up_th = 2.0 # m/s\n",
    "\n",
    "    # Coordinate conversion\n",
    "    x_llh = np.array(pm.ecef2geodetic(x_wls[:, 0], x_wls[:, 1], x_wls[:, 2])).T\n",
    "    v_enu = np.array(pm.ecef2enuv(\n",
    "        v_wls[:, 0], v_wls[:, 1], v_wls[:, 2], x_llh[0, 0], x_llh[0, 1])).T\n",
    "\n",
    "    # Up velocity jump detection\n",
    "    # Cars don't jump suddenly!\n",
    "    idx_v_out = np.abs(v_enu[:, 2]) > v_up_th\n",
    "    v_wls[idx_v_out, :] = np.nan\n",
    "    \n",
    "    # Interpolate NaNs at beginning and end of array\n",
    "    x_df = pd.DataFrame({'x': x_wls[:, 0], 'y': x_wls[:, 1], 'z': x_wls[:, 2]})\n",
    "    x_df = x_df.interpolate(limit_area='outside', limit_direction='both')\n",
    "    \n",
    "    # Interpolate all NaN data\n",
    "    v_df = pd.DataFrame({'x': v_wls[:, 0], 'y': v_wls[:, 1], 'z': v_wls[:, 2]})\n",
    "    v_df = v_df.interpolate(limit_area='outside', limit_direction='both')\n",
    "    v_df = v_df.interpolate('spline', order=3)\n",
    "\n",
    "    return x_df.to_numpy(), v_df.to_numpy()"
   ]
  },
  {
   "cell_type": "code",
   "execution_count": 7,
   "id": "d79df3be",
   "metadata": {},
   "outputs": [],
   "source": [
    "# Kalman filter\n",
    "def Kalman_filter(zs, us, phone):\n",
    "    # Parameters\n",
    "    # I don't know why only XiaomiMi8 seems to be inaccurate ... \n",
    "    sigma_v = 0.6 if phone == 'XiaomiMi8' else 0.1 # velocity SD m/s\n",
    "    sigma_x = 5.0  # position SD m\n",
    "    sigma_mahalanobis = 30.0 # Mahalanobis distance for rejecting innovation\n",
    "    \n",
    "    n, dim_x = zs.shape\n",
    "    F = np.eye(3)  # Transition matrix\n",
    "    Q = sigma_v**2 * np.eye(3)  # Process noise\n",
    "\n",
    "    H = np.eye(3)  # Measurement function\n",
    "    R = sigma_x**2 * np.eye(3)  # Measurement noise\n",
    "\n",
    "    # Initial state and covariance\n",
    "    x = zs[0, :3].T  # State\n",
    "    P = sigma_x**2 * np.eye(3)  # State covariance\n",
    "    I = np.eye(dim_x)\n",
    "\n",
    "    x_kf = np.zeros([n, dim_x])\n",
    "    P_kf = np.zeros([n, dim_x, dim_x])\n",
    "\n",
    "    # Kalman filtering\n",
    "    for i, (u, z) in enumerate(zip(us, zs)):\n",
    "        # First step\n",
    "        if i == 0:\n",
    "            x_kf[i] = x.T\n",
    "            P_kf[i] = P\n",
    "            continue\n",
    "\n",
    "        # Prediction step\n",
    "        x = F @ x + u.T\n",
    "        P = (F @ P) @ F.T + Q\n",
    "\n",
    "        # Check outliers for observation\n",
    "        d = distance.mahalanobis(z, H @ x, np.linalg.pinv(P))\n",
    "\n",
    "        # Update step\n",
    "        if d < sigma_mahalanobis:\n",
    "            y = z.T - H @ x\n",
    "            S = (H @ P) @ H.T + R\n",
    "            K = (P @ H.T) @ np.linalg.inv(S)\n",
    "            x = x + K @ y\n",
    "            P = (I - (K @ H)) @ P\n",
    "        else:\n",
    "            # If no observation update is available, increase covariance\n",
    "            P += 10**2*Q\n",
    "\n",
    "        x_kf[i] = x.T\n",
    "        P_kf[i] = P\n",
    "\n",
    "    return x_kf, P_kf\n",
    "\n",
    "\n",
    "# Forward + backward Kalman filter and smoothing\n",
    "def Kalman_smoothing(x_wls, v_wls, phone):\n",
    "    n, dim_x = x_wls.shape\n",
    "\n",
    "    # Forward\n",
    "    v = np.vstack([np.zeros([1, 3]), (v_wls[:-1, :] + v_wls[1:, :])/2])\n",
    "    x_f, P_f = Kalman_filter(x_wls, v, phone)\n",
    "\n",
    "    # Backward\n",
    "    v = -np.flipud(v_wls)\n",
    "    v = np.vstack([np.zeros([1, 3]), (v[:-1, :] + v[1:, :])/2])\n",
    "    x_b, P_b = Kalman_filter(np.flipud(x_wls), v, phone)\n",
    "\n",
    "    # Smoothing\n",
    "    x_fb = np.zeros_like(x_f)\n",
    "    P_fb = np.zeros_like(P_f)\n",
    "    for (f, b) in zip(range(n), range(n-1, -1, -1)):\n",
    "        P_fi = np.linalg.inv(P_f[f])\n",
    "        P_bi = np.linalg.inv(P_b[b])\n",
    "\n",
    "        P_fb[f] = np.linalg.inv(P_fi + P_bi)\n",
    "        x_fb[f] = P_fb[f] @ (P_fi @ x_f[f] + P_bi @ x_b[b])\n",
    "\n",
    "    return x_fb, x_f, np.flipud(x_b)"
   ]
  },
  {
   "cell_type": "code",
   "execution_count": 8,
   "id": "1053a18e",
   "metadata": {},
   "outputs": [
    {
     "data": {
      "application/vnd.jupyter.widget-view+json": {
       "model_id": "a66e6c20d6de48a19efcce13b0638de7",
       "version_major": 2,
       "version_minor": 0
      },
      "text/plain": [
       "  0%|          | 0/1896 [00:00<?, ?it/s]"
      ]
     },
     "metadata": {},
     "output_type": "display_data"
    }
   ],
   "source": [
    "path = '../data/2021-07-19-US-MTV-1/GooglePixel4'\n",
    "\n",
    "drive, phone = path.split('/')[-2:]\n",
    "\n",
    "# Read data\n",
    "gnss_df = pd.read_csv(f'{path}/device_gnss.csv')  # GNSS data\n",
    "gt_df = pd.read_csv(f'{path}/ground_truth.csv')  # ground truth\n",
    "\n",
    "# Point positioning\n",
    "utc, x_wls, v_wls = point_positioning(gnss_df)\n",
    "\n",
    "# Exclude velocity outliers\n",
    "x_wls, v_wls = exclude_interpolate_outlier(x_wls, v_wls)\n",
    "\n",
    "# Kalman smoothing\n",
    "x_kf, _, _ = Kalman_smoothing(x_wls, v_wls, phone)\n",
    "\n",
    "# Convert to latitude and longitude\n",
    "llh_wls = np.array(pm.ecef2geodetic(x_wls[:, 0], x_wls[:, 1], x_wls[:, 2])).T\n",
    "llh_kf = np.array(pm.ecef2geodetic(x_kf[:, 0], x_kf[:, 1], x_kf[:, 2])).T\n",
    "\n",
    "# Baseline\n",
    "x_bl = gnss_df.groupby('TimeNanos')[\n",
    "    ['WlsPositionXEcefMeters', 'WlsPositionYEcefMeters', 'WlsPositionZEcefMeters']].mean().to_numpy()\n",
    "llh_bl = np.array(pm.ecef2geodetic(x_bl[:, 0], x_bl[:, 1], x_bl[:, 2])).T\n",
    "\n",
    "\n"
   ]
  },
  {
   "cell_type": "code",
   "execution_count": 9,
   "id": "a744ee73",
   "metadata": {},
   "outputs": [
    {
     "name": "stdout",
     "output_type": "stream",
     "text": [
      "Score Baseline   2.1929 [m]\n",
      "Score Robust WLS 1.9769 [m]\n",
      "Score KF         1.1443 [m]\n"
     ]
    }
   ],
   "source": [
    "# Compute distance by Vincenty's formulae\n",
    "def vincenty_distance(llh1, llh2):\n",
    "    \"\"\"\n",
    "    Args:\n",
    "        llh1 : [latitude,longitude] (deg)\n",
    "        llh2 : [latitude,longitude] (deg)\n",
    "    Returns:\n",
    "        d : distance between llh1 and llh2 (m)\n",
    "    \"\"\"\n",
    "    d, az = np.array(pmv.vdist(llh1[:, 0], llh1[:, 1], llh2[:, 0], llh2[:, 1]))\n",
    "\n",
    "    return d\n",
    "\n",
    "\n",
    "# Compute score\n",
    "def calc_score(llh, llh_gt):\n",
    "    \"\"\"\n",
    "    Args:\n",
    "        llh : [latitude,longitude] (deg)\n",
    "        llh_gt : [latitude,longitude] (deg)\n",
    "    Returns:\n",
    "        score : (m)\n",
    "    \"\"\"\n",
    "    d = vincenty_distance(llh, llh_gt)\n",
    "    score = np.mean([np.quantile(d, 0.50), np.quantile(d, 0.95)])\n",
    "    return score\n",
    "\n",
    "    \n",
    "# Ground truth\n",
    "llh_gt = gt_df[['LatitudeDegrees', 'LongitudeDegrees']].to_numpy()\n",
    "\n",
    "# Distance from ground truth\n",
    "vd_bl = vincenty_distance(llh_bl, llh_gt)\n",
    "vd_wls = vincenty_distance(llh_wls, llh_gt)\n",
    "vd_kf = vincenty_distance(llh_kf, llh_gt)\n",
    "\n",
    "# Score\n",
    "score_bl = calc_score(llh_bl, llh_gt)\n",
    "score_wls = calc_score(llh_wls, llh_gt)\n",
    "score_kf = calc_score(llh_kf[:-1, :], llh_gt[:-1, :])\n",
    "\n",
    "print(f'Score Baseline   {score_bl:.4f} [m]')\n",
    "print(f'Score Robust WLS {score_wls:.4f} [m]')\n",
    "print(f'Score KF         {score_kf:.4f} [m]')"
   ]
  },
  {
   "cell_type": "code",
   "execution_count": 10,
   "id": "640eeea7",
   "metadata": {},
   "outputs": [
    {
     "data": {
      "image/png": "[encoded data removed]",
      "text/plain": [
       "<Figure size 864x432 with 1 Axes>"
      ]
     },
     "metadata": {
      "needs_background": "light"
     },
     "output_type": "display_data"
    },
    {
     "data": {
      "image/png": "[encoded data removed]",
      "text/plain": [
       "<Figure size 864x432 with 1 Axes>"
      ]
     },
     "metadata": {
      "needs_background": "light"
     },
     "output_type": "display_data"
    }
   ],
   "source": [
    "# Plot distance error\n",
    "plt.figure(figsize=(12,6))\n",
    "plt.title('Distance error')\n",
    "plt.ylabel('Distance error [m]')\n",
    "plt.plot(vd_bl, label=f'Baseline, Score: {score_bl:.4f} m')\n",
    "plt.plot(vd_wls, label=f'Robust WLS, Score: {score_wls:.4f} m')\n",
    "plt.plot(vd_kf, label=f'Robust WLS + KF, Score: {score_kf:.4f} m')\n",
    "plt.legend()\n",
    "plt.grid()\n",
    "plt.ylim([0, 30])\n",
    "\n",
    "# Compute velocity error\n",
    "speed_wls = np.linalg.norm(v_wls[:, :3], axis=1)\n",
    "speed_gt = gt_df['SpeedMps'].to_numpy()\n",
    "speed_rmse = np.sqrt(np.sum((speed_wls-speed_gt)**2)/len(speed_gt))\n",
    "\n",
    "# Plot velocity error\n",
    "plt.figure(figsize=(12,6))\n",
    "plt.title('Speed error')\n",
    "plt.ylabel('Speed Error [m/s]')\n",
    "plt.plot(speed_wls - speed_gt, label=f'Speed RMSE: {speed_rmse:.4f} m')\n",
    "plt.legend()\n",
    "plt.grid()\n",
    "\n",
    "#Plot lat error????"
   ]
  },
  {
   "cell_type": "code",
   "execution_count": 11,
   "id": "590d302a",
   "metadata": {},
   "outputs": [],
   "source": [
    "def convert_wgs_to_utm(lon, lat):\n",
    "    utm_band = str((math.floor((lon + 180) / 6 ) % 60) + 1)\n",
    "    if len(utm_band) == 1:\n",
    "        utm_band = '0'+utm_band\n",
    "    if lat >= 0:\n",
    "        epsg_code = '326' + utm_band\n",
    "    else:\n",
    "        epsg_code = '327' + utm_band\n",
    "    return epsg_code\n",
    "\n",
    "llh_bl_df = pd.DataFrame(llh_bl)\n",
    "llh_wls_df = pd.DataFrame(llh_wls)\n",
    "llh_kf_df = pd.DataFrame(llh_kf)\n",
    "\n",
    "gt_df.rename(columns = {'LatitudeDegrees':'lat', 'LongitudeDegrees':'lon'}, inplace = True)\n",
    "\n",
    "llh_bl_df.columns = ['lat', 'lon', 'Noise']\n",
    "llh_wls_df.columns = ['lat', 'lon', 'Noise']\n",
    "llh_kf_df.columns = ['lat', 'lon', 'Noise']\n",
    "\n",
    "all_tracks = pd.concat([gt_df, llh_bl_df, llh_wls_df, llh_kf_df])\n",
    "all_tracks  =all_tracks[['lat', 'lon']]\n",
    "all_tracks['Name'] = np.repeat(['gt','bl', 'wls','kf'],gt_df.shape[0])\n"
   ]
  },
  {
   "cell_type": "code",
   "execution_count": 58,
   "id": "99cc51c2",
   "metadata": {},
   "outputs": [
    {
     "data": {
      "text/plain": [
       "4.246478678027188e-06"
      ]
     },
     "execution_count": 58,
     "metadata": {},
     "output_type": "execute_result"
    },
    {
     "data": {
      "image/png": "[encoded data removed]",
      "text/plain": [
       "<Figure size 432x288 with 1 Axes>"
      ]
     },
     "metadata": {
      "needs_background": "light"
     },
     "output_type": "display_data"
    }
   ],
   "source": [
    "lat_dif = llh_kf_df['lat']-gt_df['lat']\n",
    "lat_dif.plot.hist(bins = 30, title = 'Predicted Latitude minus Ground Truth Latitude Google Pixel 4')\n",
    "lat_er_median = lat_dif.median()\n",
    "lat_er_median"
   ]
  },
  {
   "cell_type": "code",
   "execution_count": 59,
   "id": "acf7d8d3",
   "metadata": {},
   "outputs": [
    {
     "data": {
      "text/plain": [
       "(-5e-05, 5e-05)"
      ]
     },
     "execution_count": 59,
     "metadata": {},
     "output_type": "execute_result"
    },
    {
     "data": {
      "image/png": "[encoded data removed]",
      "text/plain": [
       "<Figure size 432x288 with 1 Axes>"
      ]
     },
     "metadata": {
      "needs_background": "light"
     },
     "output_type": "display_data"
    }
   ],
   "source": [
    "lat_dif.plot.box()\n",
    "plt.grid()\n",
    "plt.ylim(-5e-5, 5e-5)"
   ]
  },
  {
   "cell_type": "code",
   "execution_count": 48,
   "id": "8ea62305",
   "metadata": {},
   "outputs": [],
   "source": [
    "#very scientific adjustment\n",
    "lat_adj = llh_kf_df['lat'] - lat_er_median"
   ]
  },
  {
   "cell_type": "code",
   "execution_count": 49,
   "id": "6997ca0f",
   "metadata": {},
   "outputs": [
    {
     "data": {
      "text/html": [
       "<div>\n",
       "<style scoped>\n",
       "    .dataframe tbody tr th:only-of-type {\n",
       "        vertical-align: middle;\n",
       "    }\n",
       "\n",
       "    .dataframe tbody tr th {\n",
       "        vertical-align: top;\n",
       "    }\n",
       "\n",
       "    .dataframe thead th {\n",
       "        text-align: right;\n",
       "    }\n",
       "</style>\n",
       "<table border=\"1\" class=\"dataframe\">\n",
       "  <thead>\n",
       "    <tr style=\"text-align: right;\">\n",
       "      <th></th>\n",
       "      <th>lat</th>\n",
       "      <th>lon</th>\n",
       "      <th>Noise</th>\n",
       "    </tr>\n",
       "  </thead>\n",
       "  <tbody>\n",
       "    <tr>\n",
       "      <th>0</th>\n",
       "      <td>37.444091</td>\n",
       "      <td>-122.232799</td>\n",
       "      <td>2.854151</td>\n",
       "    </tr>\n",
       "    <tr>\n",
       "      <th>1</th>\n",
       "      <td>37.444087</td>\n",
       "      <td>-122.232800</td>\n",
       "      <td>3.414001</td>\n",
       "    </tr>\n",
       "    <tr>\n",
       "      <th>2</th>\n",
       "      <td>37.444086</td>\n",
       "      <td>-122.232801</td>\n",
       "      <td>3.724667</td>\n",
       "    </tr>\n",
       "    <tr>\n",
       "      <th>3</th>\n",
       "      <td>37.444085</td>\n",
       "      <td>-122.232801</td>\n",
       "      <td>3.659457</td>\n",
       "    </tr>\n",
       "    <tr>\n",
       "      <th>4</th>\n",
       "      <td>37.444085</td>\n",
       "      <td>-122.232801</td>\n",
       "      <td>3.780980</td>\n",
       "    </tr>\n",
       "    <tr>\n",
       "      <th>...</th>\n",
       "      <td>...</td>\n",
       "      <td>...</td>\n",
       "      <td>...</td>\n",
       "    </tr>\n",
       "    <tr>\n",
       "      <th>1891</th>\n",
       "      <td>37.444121</td>\n",
       "      <td>-122.232750</td>\n",
       "      <td>-10.682220</td>\n",
       "    </tr>\n",
       "    <tr>\n",
       "      <th>1892</th>\n",
       "      <td>37.444123</td>\n",
       "      <td>-122.232751</td>\n",
       "      <td>-10.348774</td>\n",
       "    </tr>\n",
       "    <tr>\n",
       "      <th>1893</th>\n",
       "      <td>37.444123</td>\n",
       "      <td>-122.232752</td>\n",
       "      <td>-11.146979</td>\n",
       "    </tr>\n",
       "    <tr>\n",
       "      <th>1894</th>\n",
       "      <td>37.444123</td>\n",
       "      <td>-122.232752</td>\n",
       "      <td>-11.049652</td>\n",
       "    </tr>\n",
       "    <tr>\n",
       "      <th>1895</th>\n",
       "      <td>37.444123</td>\n",
       "      <td>-122.232760</td>\n",
       "      <td>-10.843793</td>\n",
       "    </tr>\n",
       "  </tbody>\n",
       "</table>\n",
       "<p>1896 rows × 3 columns</p>\n",
       "</div>"
      ],
      "text/plain": [
       "            lat         lon      Noise\n",
       "0     37.444091 -122.232799   2.854151\n",
       "1     37.444087 -122.232800   3.414001\n",
       "2     37.444086 -122.232801   3.724667\n",
       "3     37.444085 -122.232801   3.659457\n",
       "4     37.444085 -122.232801   3.780980\n",
       "...         ...         ...        ...\n",
       "1891  37.444121 -122.232750 -10.682220\n",
       "1892  37.444123 -122.232751 -10.348774\n",
       "1893  37.444123 -122.232752 -11.146979\n",
       "1894  37.444123 -122.232752 -11.049652\n",
       "1895  37.444123 -122.232760 -10.843793\n",
       "\n",
       "[1896 rows x 3 columns]"
      ]
     },
     "execution_count": 49,
     "metadata": {},
     "output_type": "execute_result"
    }
   ],
   "source": [
    "adj_llh_kf_df = llh_kf_df.copy()\n",
    "adj_llh_kf_df['lat'] = lat_adj\n",
    "adj_llh_kf_df"
   ]
  },
  {
   "cell_type": "code",
   "execution_count": 50,
   "id": "5bc38c25",
   "metadata": {},
   "outputs": [],
   "source": [
    "adj_llh_kf = adj_llh_kf_df[['lat','lon']].to_numpy()"
   ]
  },
  {
   "cell_type": "code",
   "execution_count": 51,
   "id": "9e65cc5e",
   "metadata": {},
   "outputs": [
    {
     "data": {
      "text/plain": [
       "1.0369696028011612"
      ]
     },
     "execution_count": 51,
     "metadata": {},
     "output_type": "execute_result"
    }
   ],
   "source": [
    "calc_score(adj_llh_kf[:-1, :], llh_gt[:-1, :])\n",
    "#ok so this drops like .1 meters error so that's nice lol"
   ]
  },
  {
   "cell_type": "markdown",
   "id": "a709062d",
   "metadata": {},
   "source": [
    "Here's a question, are the non-kalman filters also doing this latitude thing?"
   ]
  },
  {
   "cell_type": "code",
   "execution_count": 60,
   "id": "e5efad3c",
   "metadata": {},
   "outputs": [
    {
     "data": {
      "text/plain": [
       "3.814849684147248e-06"
      ]
     },
     "execution_count": 60,
     "metadata": {},
     "output_type": "execute_result"
    },
    {
     "data": {
      "image/png": "[encoded data removed]",
      "text/plain": [
       "<Figure size 432x288 with 1 Axes>"
      ]
     },
     "metadata": {
      "needs_background": "light"
     },
     "output_type": "display_data"
    }
   ],
   "source": [
    "lat_dif = llh_bl_df['lat']-gt_df['lat']\n",
    "lat_dif.plot.hist(bins = 30, title = 'Predicted Latitude baseliine minus Ground Truth Latitude Google Pixel 4')\n",
    "lat_er_median = lat_dif.median()\n",
    "lat_er_median\n"
   ]
  },
  {
   "cell_type": "code",
   "execution_count": 61,
   "id": "34c376ba",
   "metadata": {},
   "outputs": [
    {
     "data": {
      "text/plain": [
       "(-5e-05, 5e-05)"
      ]
     },
     "execution_count": 61,
     "metadata": {},
     "output_type": "execute_result"
    },
    {
     "data": {
      "image/png": "[encoded data removed]",
      "text/plain": [
       "<Figure size 432x288 with 1 Axes>"
      ]
     },
     "metadata": {
      "needs_background": "light"
     },
     "output_type": "display_data"
    }
   ],
   "source": [
    "lat_dif.plot.box()\n",
    "plt.grid()\n",
    "plt.ylim(-5e-5, 5e-5)"
   ]
  },
  {
   "cell_type": "code",
   "execution_count": null,
   "id": "d32bfe21",
   "metadata": {},
   "outputs": [],
   "source": [
    "#looks like yeah they do. We are predicting too high of a lat even using the baseline."
   ]
  },
  {
   "cell_type": "code",
   "execution_count": 54,
   "id": "86902db4",
   "metadata": {},
   "outputs": [
    {
     "data": {
      "text/plain": [
       "4.463143163491168e-06"
      ]
     },
     "execution_count": 54,
     "metadata": {},
     "output_type": "execute_result"
    },
    {
     "data": {
      "image/png": "[encoded data removed]",
      "text/plain": [
       "<Figure size 432x288 with 1 Axes>"
      ]
     },
     "metadata": {
      "needs_background": "light"
     },
     "output_type": "display_data"
    }
   ],
   "source": [
    "lat_dif = llh_wls_df['lat']-gt_df['lat']\n",
    "lat_dif.plot.hist(bins = 30, title = 'Predicted Latitude baseliine minus Ground Truth Latitude Google Pixel 4')\n",
    "lat_er_median = lat_dif.median()\n",
    "lat_er_median"
   ]
  },
  {
   "cell_type": "code",
   "execution_count": 57,
   "id": "15737d4d",
   "metadata": {},
   "outputs": [
    {
     "data": {
      "text/plain": [
       "(-5e-05, 5e-05)"
      ]
     },
     "execution_count": 57,
     "metadata": {},
     "output_type": "execute_result"
    },
    {
     "data": {
      "image/png": "[encoded data removed]",
      "text/plain": [
       "<Figure size 432x288 with 1 Axes>"
      ]
     },
     "metadata": {
      "needs_background": "light"
     },
     "output_type": "display_data"
    }
   ],
   "source": [
    "lat_dif.plot.box()\n",
    "plt.grid()\n",
    "plt.ylim(-5e-5, 5e-5)"
   ]
  },
  {
   "cell_type": "code",
   "execution_count": null,
   "id": "f2fefee4",
   "metadata": {},
   "outputs": [],
   "source": []
  }
 ],
 "metadata": {
  "kernelspec": {
   "display_name": "Python 3 (ipykernel)",
   "language": "python",
   "name": "python3"
  },
  "language_info": {
   "codemirror_mode": {
    "name": "ipython",
    "version": 3
   },
   "file_extension": ".py",
   "mimetype": "text/x-python",
   "name": "python",
   "nbconvert_exporter": "python",
   "pygments_lexer": "ipython3",
   "version": "3.9.7"
  }
 },
 "nbformat": 4,
 "nbformat_minor": 5
}
